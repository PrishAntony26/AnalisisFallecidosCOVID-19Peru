{
  "nbformat": 4,
  "nbformat_minor": 0,
  "metadata": {
    "colab": {
      "name": "AnalisisFallecidosCOVIDPeru.ipynb",
      "provenance": [],
      "include_colab_link": true
    },
    "kernelspec": {
      "name": "python3",
      "display_name": "Python 3"
    },
    "language_info": {
      "name": "python"
    }
  },
  "cells": [
    {
      "cell_type": "markdown",
      "metadata": {
        "id": "view-in-github",
        "colab_type": "text"
      },
      "source": [
        "<a href=\"https://colab.research.google.com/github/PrishAntony26/AnalisisFallecidosCOVID-19Peru/blob/main/AnalisisFallecidosCOVIDPeru.ipynb\" target=\"_parent\"><img src=\"https://colab.research.google.com/assets/colab-badge.svg\" alt=\"Open In Colab\"/></a>"
      ]
    },
    {
      "cell_type": "markdown",
      "metadata": {
        "id": "tyNLXyK0Gc0Y"
      },
      "source": [
        "## **Carga de las librerías necesarias**"
      ]
    },
    {
      "cell_type": "code",
      "metadata": {
        "id": "vfEHf3ZodrC8"
      },
      "source": [
        "import numpy as np\n",
        "import pandas as pd\n",
        "import matplotlib.pyplot as plt\n",
        "import seaborn as sb\n",
        "import sklearn"
      ],
      "execution_count": null,
      "outputs": []
    },
    {
      "cell_type": "markdown",
      "metadata": {
        "id": "a_mZHr_SJ3f7"
      },
      "source": [
        "## **Carga del Dataset**"
      ]
    },
    {
      "cell_type": "markdown",
      "metadata": {
        "id": "AywH3dvsJ6Ot"
      },
      "source": [
        "Registros de pacientes fallecidos por COVID-19 en el Perú\n",
        "\n"
      ]
    },
    {
      "cell_type": "code",
      "metadata": {
        "id": "tphkkYiudy9x",
        "colab": {
          "base_uri": "https://localhost:8080/"
        },
        "outputId": "b5f407c1-5c1f-4b5d-fe88-189a03fd712f"
      },
      "source": [
        "# Cargamos los datos desde un repositorio en GitHub\n",
        "\n",
        "icfes = pd.read_excel('Minsa_Fallecidos.xlsx')\n",
        "print(icfes.shape)"
      ],
      "execution_count": null,
      "outputs": [
        {
          "output_type": "stream",
          "name": "stdout",
          "text": [
            "(204769, 10)\n"
          ]
        }
      ]
    },
    {
      "cell_type": "code",
      "metadata": {
        "colab": {
          "base_uri": "https://localhost:8080/"
        },
        "id": "w8ZXzqeiKfMX",
        "outputId": "a9824ebe-c7ee-4538-d197-c8355019e846"
      },
      "source": [
        "type(icfes) #Tipo DataFrame"
      ],
      "execution_count": null,
      "outputs": [
        {
          "output_type": "execute_result",
          "data": {
            "text/plain": [
              "pandas.core.frame.DataFrame"
            ]
          },
          "metadata": {},
          "execution_count": 6
        }
      ]
    },
    {
      "cell_type": "code",
      "metadata": {
        "id": "qXQb2K06d4BI",
        "colab": {
          "base_uri": "https://localhost:8080/",
          "height": 423
        },
        "outputId": "672b72f1-97f7-4e3d-9ab9-f479a558526b"
      },
      "source": [
        "icfes "
      ],
      "execution_count": null,
      "outputs": [
        {
          "output_type": "execute_result",
          "data": {
            "text/html": [
              "\n",
              "  <div id=\"df-a7e139ed-b2f1-42d3-b617-9347aebd9013\">\n",
              "    <div class=\"colab-df-container\">\n",
              "      <div>\n",
              "<style scoped>\n",
              "    .dataframe tbody tr th:only-of-type {\n",
              "        vertical-align: middle;\n",
              "    }\n",
              "\n",
              "    .dataframe tbody tr th {\n",
              "        vertical-align: top;\n",
              "    }\n",
              "\n",
              "    .dataframe thead th {\n",
              "        text-align: right;\n",
              "    }\n",
              "</style>\n",
              "<table border=\"1\" class=\"dataframe\">\n",
              "  <thead>\n",
              "    <tr style=\"text-align: right;\">\n",
              "      <th></th>\n",
              "      <th>FECHA_CORTE</th>\n",
              "      <th>FECHA_FALLECIMIENTO</th>\n",
              "      <th>EDAD_DECLARADA</th>\n",
              "      <th>SEXO</th>\n",
              "      <th>CLASIFICACION_DEF</th>\n",
              "      <th>DEPARTAMENTO</th>\n",
              "      <th>PROVINCIA</th>\n",
              "      <th>DISTRITO</th>\n",
              "      <th>UBIGEO</th>\n",
              "      <th>UUID</th>\n",
              "    </tr>\n",
              "  </thead>\n",
              "  <tbody>\n",
              "    <tr>\n",
              "      <th>0</th>\n",
              "      <td>20220125</td>\n",
              "      <td>20210607</td>\n",
              "      <td>31</td>\n",
              "      <td>MASCULINO</td>\n",
              "      <td>Criterio SINADEF</td>\n",
              "      <td>PIURA</td>\n",
              "      <td>SULLANA</td>\n",
              "      <td>SULLANA</td>\n",
              "      <td>200601</td>\n",
              "      <td>24804325.0</td>\n",
              "    </tr>\n",
              "    <tr>\n",
              "      <th>1</th>\n",
              "      <td>20220125</td>\n",
              "      <td>20210716</td>\n",
              "      <td>93</td>\n",
              "      <td>FEMENINO</td>\n",
              "      <td>Criterio SINADEF</td>\n",
              "      <td>PIURA</td>\n",
              "      <td>PIURA</td>\n",
              "      <td>VEINTISEIS DE OCTUBRE</td>\n",
              "      <td>200115</td>\n",
              "      <td>24652285.0</td>\n",
              "    </tr>\n",
              "    <tr>\n",
              "      <th>2</th>\n",
              "      <td>20220125</td>\n",
              "      <td>20210214</td>\n",
              "      <td>28</td>\n",
              "      <td>FEMENINO</td>\n",
              "      <td>Criterio radiolÃƒÂ³gico</td>\n",
              "      <td>LIMA</td>\n",
              "      <td>LIMA</td>\n",
              "      <td>SAN JUAN DE MIRAFLORES</td>\n",
              "      <td>150133</td>\n",
              "      <td>24652408.0</td>\n",
              "    </tr>\n",
              "    <tr>\n",
              "      <th>3</th>\n",
              "      <td>20220125</td>\n",
              "      <td>20210722</td>\n",
              "      <td>47</td>\n",
              "      <td>MASCULINO</td>\n",
              "      <td>Criterio serolÃƒÂ³gico</td>\n",
              "      <td>JUNIN</td>\n",
              "      <td>HUANCAYO</td>\n",
              "      <td>CHILCA</td>\n",
              "      <td>120107</td>\n",
              "      <td>24652744.0</td>\n",
              "    </tr>\n",
              "    <tr>\n",
              "      <th>4</th>\n",
              "      <td>20220125</td>\n",
              "      <td>20200505</td>\n",
              "      <td>87</td>\n",
              "      <td>MASCULINO</td>\n",
              "      <td>Criterio SINADEF</td>\n",
              "      <td>LAMBAYEQUE</td>\n",
              "      <td>CHICLAYO</td>\n",
              "      <td>CHICLAYO</td>\n",
              "      <td>140101</td>\n",
              "      <td>24803428.0</td>\n",
              "    </tr>\n",
              "    <tr>\n",
              "      <th>...</th>\n",
              "      <td>...</td>\n",
              "      <td>...</td>\n",
              "      <td>...</td>\n",
              "      <td>...</td>\n",
              "      <td>...</td>\n",
              "      <td>...</td>\n",
              "      <td>...</td>\n",
              "      <td>...</td>\n",
              "      <td>...</td>\n",
              "      <td>...</td>\n",
              "    </tr>\n",
              "    <tr>\n",
              "      <th>204764</th>\n",
              "      <td>20220125</td>\n",
              "      <td>20200523</td>\n",
              "      <td>1</td>\n",
              "      <td>MASCULINO</td>\n",
              "      <td>Criterio clÃƒÂ­nico</td>\n",
              "      <td>UCAYALI</td>\n",
              "      <td>CORONEL PORTILLO</td>\n",
              "      <td>CALLERIA</td>\n",
              "      <td>250101</td>\n",
              "      <td>NaN</td>\n",
              "    </tr>\n",
              "    <tr>\n",
              "      <th>204765</th>\n",
              "      <td>20220125</td>\n",
              "      <td>20211003</td>\n",
              "      <td>30</td>\n",
              "      <td>FEMENINO</td>\n",
              "      <td>Criterio clÃƒÂ­nico</td>\n",
              "      <td>LIMA</td>\n",
              "      <td>LIMA</td>\n",
              "      <td>SAN JUAN DE LURIGANCHO</td>\n",
              "      <td>150132</td>\n",
              "      <td>NaN</td>\n",
              "    </tr>\n",
              "    <tr>\n",
              "      <th>204766</th>\n",
              "      <td>20220125</td>\n",
              "      <td>20200918</td>\n",
              "      <td>66</td>\n",
              "      <td>FEMENINO</td>\n",
              "      <td>Criterio radiolÃƒÂ³gico</td>\n",
              "      <td>PIURA</td>\n",
              "      <td>MORROPON</td>\n",
              "      <td>LA MATANZA</td>\n",
              "      <td>200404</td>\n",
              "      <td>NaN</td>\n",
              "    </tr>\n",
              "    <tr>\n",
              "      <th>204767</th>\n",
              "      <td>20220125</td>\n",
              "      <td>20200510</td>\n",
              "      <td>60</td>\n",
              "      <td>MASCULINO</td>\n",
              "      <td>Criterio clÃƒÂ­nico</td>\n",
              "      <td>LIMA</td>\n",
              "      <td>LIMA</td>\n",
              "      <td>SAN JUAN DE LURIGANCHO</td>\n",
              "      <td>150132</td>\n",
              "      <td>NaN</td>\n",
              "    </tr>\n",
              "    <tr>\n",
              "      <th>204768</th>\n",
              "      <td>20220125</td>\n",
              "      <td>20201122</td>\n",
              "      <td>49</td>\n",
              "      <td>FEMENINO</td>\n",
              "      <td>Criterio investigaciÃƒÂ³n EpidemiolÃƒÂ³gica</td>\n",
              "      <td>LAMBAYEQUE</td>\n",
              "      <td>CHICLAYO</td>\n",
              "      <td>CHICLAYO</td>\n",
              "      <td>140101</td>\n",
              "      <td>NaN</td>\n",
              "    </tr>\n",
              "  </tbody>\n",
              "</table>\n",
              "<p>204769 rows × 10 columns</p>\n",
              "</div>\n",
              "      <button class=\"colab-df-convert\" onclick=\"convertToInteractive('df-a7e139ed-b2f1-42d3-b617-9347aebd9013')\"\n",
              "              title=\"Convert this dataframe to an interactive table.\"\n",
              "              style=\"display:none;\">\n",
              "        \n",
              "  <svg xmlns=\"http://www.w3.org/2000/svg\" height=\"24px\"viewBox=\"0 0 24 24\"\n",
              "       width=\"24px\">\n",
              "    <path d=\"M0 0h24v24H0V0z\" fill=\"none\"/>\n",
              "    <path d=\"M18.56 5.44l.94 2.06.94-2.06 2.06-.94-2.06-.94-.94-2.06-.94 2.06-2.06.94zm-11 1L8.5 8.5l.94-2.06 2.06-.94-2.06-.94L8.5 2.5l-.94 2.06-2.06.94zm10 10l.94 2.06.94-2.06 2.06-.94-2.06-.94-.94-2.06-.94 2.06-2.06.94z\"/><path d=\"M17.41 7.96l-1.37-1.37c-.4-.4-.92-.59-1.43-.59-.52 0-1.04.2-1.43.59L10.3 9.45l-7.72 7.72c-.78.78-.78 2.05 0 2.83L4 21.41c.39.39.9.59 1.41.59.51 0 1.02-.2 1.41-.59l7.78-7.78 2.81-2.81c.8-.78.8-2.07 0-2.86zM5.41 20L4 18.59l7.72-7.72 1.47 1.35L5.41 20z\"/>\n",
              "  </svg>\n",
              "      </button>\n",
              "      \n",
              "  <style>\n",
              "    .colab-df-container {\n",
              "      display:flex;\n",
              "      flex-wrap:wrap;\n",
              "      gap: 12px;\n",
              "    }\n",
              "\n",
              "    .colab-df-convert {\n",
              "      background-color: #E8F0FE;\n",
              "      border: none;\n",
              "      border-radius: 50%;\n",
              "      cursor: pointer;\n",
              "      display: none;\n",
              "      fill: #1967D2;\n",
              "      height: 32px;\n",
              "      padding: 0 0 0 0;\n",
              "      width: 32px;\n",
              "    }\n",
              "\n",
              "    .colab-df-convert:hover {\n",
              "      background-color: #E2EBFA;\n",
              "      box-shadow: 0px 1px 2px rgba(60, 64, 67, 0.3), 0px 1px 3px 1px rgba(60, 64, 67, 0.15);\n",
              "      fill: #174EA6;\n",
              "    }\n",
              "\n",
              "    [theme=dark] .colab-df-convert {\n",
              "      background-color: #3B4455;\n",
              "      fill: #D2E3FC;\n",
              "    }\n",
              "\n",
              "    [theme=dark] .colab-df-convert:hover {\n",
              "      background-color: #434B5C;\n",
              "      box-shadow: 0px 1px 3px 1px rgba(0, 0, 0, 0.15);\n",
              "      filter: drop-shadow(0px 1px 2px rgba(0, 0, 0, 0.3));\n",
              "      fill: #FFFFFF;\n",
              "    }\n",
              "  </style>\n",
              "\n",
              "      <script>\n",
              "        const buttonEl =\n",
              "          document.querySelector('#df-a7e139ed-b2f1-42d3-b617-9347aebd9013 button.colab-df-convert');\n",
              "        buttonEl.style.display =\n",
              "          google.colab.kernel.accessAllowed ? 'block' : 'none';\n",
              "\n",
              "        async function convertToInteractive(key) {\n",
              "          const element = document.querySelector('#df-a7e139ed-b2f1-42d3-b617-9347aebd9013');\n",
              "          const dataTable =\n",
              "            await google.colab.kernel.invokeFunction('convertToInteractive',\n",
              "                                                     [key], {});\n",
              "          if (!dataTable) return;\n",
              "\n",
              "          const docLinkHtml = 'Like what you see? Visit the ' +\n",
              "            '<a target=\"_blank\" href=https://colab.research.google.com/notebooks/data_table.ipynb>data table notebook</a>'\n",
              "            + ' to learn more about interactive tables.';\n",
              "          element.innerHTML = '';\n",
              "          dataTable['output_type'] = 'display_data';\n",
              "          await google.colab.output.renderOutput(dataTable, element);\n",
              "          const docLink = document.createElement('div');\n",
              "          docLink.innerHTML = docLinkHtml;\n",
              "          element.appendChild(docLink);\n",
              "        }\n",
              "      </script>\n",
              "    </div>\n",
              "  </div>\n",
              "  "
            ],
            "text/plain": [
              "        FECHA_CORTE  FECHA_FALLECIMIENTO  ...  UBIGEO        UUID\n",
              "0          20220125             20210607  ...  200601  24804325.0\n",
              "1          20220125             20210716  ...  200115  24652285.0\n",
              "2          20220125             20210214  ...  150133  24652408.0\n",
              "3          20220125             20210722  ...  120107  24652744.0\n",
              "4          20220125             20200505  ...  140101  24803428.0\n",
              "...             ...                  ...  ...     ...         ...\n",
              "204764     20220125             20200523  ...  250101         NaN\n",
              "204765     20220125             20211003  ...  150132         NaN\n",
              "204766     20220125             20200918  ...  200404         NaN\n",
              "204767     20220125             20200510  ...  150132         NaN\n",
              "204768     20220125             20201122  ...  140101         NaN\n",
              "\n",
              "[204769 rows x 10 columns]"
            ]
          },
          "metadata": {},
          "execution_count": 180
        }
      ]
    },
    {
      "cell_type": "markdown",
      "metadata": {
        "id": "ZLSFU1BPLAZ2"
      },
      "source": [
        "## **Entendimiento del negocio**"
      ]
    },
    {
      "cell_type": "markdown",
      "source": [
        "La OGTI, con el objetivo de apoyar en la investigación científica, clínica y epidemiológica en el contexto de COVID-19 ha puesto en disposición el dataset sobre la información oficial del Ministerio de Salud en formato estándar para su análisis. Esta data es originada a partir de la recopilación de información de COVID-19 a cargo del Instituto Nacional de Salud (INS) y del Centro Nacional de Epidemiología, Prevención y Control de Enfermedades (CDC), con el objetivo de que se realizen aportes frente a la emergencia sanitaria, a través del análisis de información. \n",
        "\n",
        "El dataset comprende los registros de las personas fallecidas por COVID-19 a nivel nacional, desde marzo de 2020 hasta la fecha actual (26/01/2022), comprende los siguientes campos.\n",
        "\n",
        "- CLASIFICACION_DEF. Criterios utilizados para la confirmación de la defunción por COVID-19\n",
        "- DEPARTAMENTO. Departamento donde reside la persona fallecida por COVID-19\n",
        "- DISTRITO. Distrito donde reside la persona fallecida por COVID-19\n",
        "- EDAD_DECLARADA. Edad de la persona fallecida por COVID-19\n",
        "- FECHA_CORTE.Fecha de corte de información\n",
        "- FECHA_FALLECIMIENTO. Fecha de fallecimiento que ocurre por COVID-19\n",
        "- PROVINCIA. Provincia donde reside la persona fallecida por COVID-19\n",
        "- SEXO. Sexo de la persona fallecida por COVID-19\n",
        "- UBIGEO. Código de Ubicación Geográfica que denotan \"DDppdd\"\n",
        "- UUID. ID de la persona fallecida por COVID-19"
      ],
      "metadata": {
        "id": "qKoLNgQFthUS"
      }
    },
    {
      "cell_type": "code",
      "metadata": {
        "colab": {
          "base_uri": "https://localhost:8080/"
        },
        "id": "HaWGv5F6gtfn",
        "outputId": "cbc424d5-1292-4558-923a-b8dd74984859"
      },
      "source": [
        "icfes.info()"
      ],
      "execution_count": null,
      "outputs": [
        {
          "output_type": "stream",
          "name": "stdout",
          "text": [
            "<class 'pandas.core.frame.DataFrame'>\n",
            "RangeIndex: 204769 entries, 0 to 204768\n",
            "Data columns (total 10 columns):\n",
            " #   Column               Non-Null Count   Dtype  \n",
            "---  ------               --------------   -----  \n",
            " 0   FECHA_CORTE          204769 non-null  int64  \n",
            " 1   FECHA_FALLECIMIENTO  204769 non-null  int64  \n",
            " 2   EDAD_DECLARADA       204769 non-null  int64  \n",
            " 3   SEXO                 204769 non-null  object \n",
            " 4   CLASIFICACION_DEF    204769 non-null  object \n",
            " 5   DEPARTAMENTO         204769 non-null  object \n",
            " 6   PROVINCIA            204764 non-null  object \n",
            " 7   DISTRITO             204764 non-null  object \n",
            " 8   UBIGEO               204769 non-null  object \n",
            " 9   UUID                 201326 non-null  float64\n",
            "dtypes: float64(1), int64(3), object(6)\n",
            "memory usage: 15.6+ MB\n"
          ]
        }
      ]
    },
    {
      "cell_type": "code",
      "metadata": {
        "colab": {
          "base_uri": "https://localhost:8080/"
        },
        "id": "F4OImuY5uDdq",
        "outputId": "a4726441-0e3b-40af-9ed3-a58d95a6f8b9"
      },
      "source": [
        "# Valores faltantes\n",
        "\n",
        "icfes.isna().sum()"
      ],
      "execution_count": null,
      "outputs": [
        {
          "output_type": "execute_result",
          "data": {
            "text/plain": [
              "FECHA_CORTE               0\n",
              "FECHA_FALLECIMIENTO       0\n",
              "EDAD_DECLARADA            0\n",
              "SEXO                      0\n",
              "CLASIFICACION_DEF         0\n",
              "DEPARTAMENTO              0\n",
              "PROVINCIA                 5\n",
              "DISTRITO                  5\n",
              "UBIGEO                    0\n",
              "UUID                   3443\n",
              "dtype: int64"
            ]
          },
          "metadata": {},
          "execution_count": 8
        }
      ]
    },
    {
      "cell_type": "markdown",
      "metadata": {
        "id": "J18DStAiSlt_"
      },
      "source": [
        "## **Entendimiento de los datos**"
      ]
    },
    {
      "cell_type": "markdown",
      "source": [
        "CAMPO OBJETIVO - CLASIFICACION_DEF"
      ],
      "metadata": {
        "id": "gRbFaqe53FhJ"
      }
    },
    {
      "cell_type": "code",
      "source": [
        "icfes['CLASIFICACION_DEF'].describe(include='all')"
      ],
      "metadata": {
        "colab": {
          "base_uri": "https://localhost:8080/"
        },
        "id": "xuD0GG6H3P3f",
        "outputId": "1bc27029-cd55-49dc-ac1e-9e3b6078862e"
      },
      "execution_count": null,
      "outputs": [
        {
          "output_type": "execute_result",
          "data": {
            "text/plain": [
              "count               204769\n",
              "unique                   7\n",
              "top       Criterio SINADEF\n",
              "freq                 61925\n",
              "Name: CLASIFICACION_DEF, dtype: object"
            ]
          },
          "metadata": {},
          "execution_count": 9
        }
      ]
    },
    {
      "cell_type": "code",
      "source": [
        " UnicoClass = icfes['CLASIFICACION_DEF'].unique()\n",
        " UnicoClass \n",
        " icfes.groupby('CLASIFICACION_DEF').count() \n",
        " CountClass = icfes['CLASIFICACION_DEF'].value_counts() \n",
        " CountClass"
      ],
      "metadata": {
        "colab": {
          "base_uri": "https://localhost:8080/"
        },
        "id": "8Dsa9JcL5vHp",
        "outputId": "a5c57141-4b29-46f2-c2d4-3a9a116c7a2e"
      },
      "execution_count": null,
      "outputs": [
        {
          "output_type": "execute_result",
          "data": {
            "text/plain": [
              "Criterio SINADEF                               61925\n",
              "Criterio virolÃƒÂ³gico                         60426\n",
              "Criterio serolÃƒÂ³gico                         45241\n",
              "Criterio investigaciÃƒÂ³n EpidemiolÃƒÂ³gica    16285\n",
              "Criterio clÃƒÂ­nico                            11022\n",
              "Criterio radiolÃƒÂ³gico                         6850\n",
              "Criterio nexo epidemiolÃƒÂ³gico                 3020\n",
              "Name: CLASIFICACION_DEF, dtype: int64"
            ]
          },
          "metadata": {},
          "execution_count": 10
        }
      ]
    },
    {
      "cell_type": "code",
      "source": [
        " icfes.groupby('CLASIFICACION_DEF')['CLASIFICACION_DEF'].count().plot(kind='bar')"
      ],
      "metadata": {
        "colab": {
          "base_uri": "https://localhost:8080/",
          "height": 503
        },
        "id": "V4Fs738F9Ofg",
        "outputId": "7b397f51-ec4d-421b-c801-2290c561e6eb"
      },
      "execution_count": null,
      "outputs": [
        {
          "output_type": "execute_result",
          "data": {
            "text/plain": [
              "<matplotlib.axes._subplots.AxesSubplot at 0x7f7994000390>"
            ]
          },
          "metadata": {},
          "execution_count": 11
        },
        {
          "output_type": "display_data",
          "data": {
            "image/png": "[encoded data removed]",
            "text/plain": [
              "<Figure size 432x288 with 1 Axes>"
            ]
          },
          "metadata": {
            "needs_background": "light"
          }
        }
      ]
    },
    {
      "cell_type": "markdown",
      "source": [
        "FECHA DE FALLECIMIENTO "
      ],
      "metadata": {
        "id": "MzSYKZEx2Dso"
      }
    },
    {
      "cell_type": "code",
      "source": [
        "icfes['FECHA_FALLECIMIENTO'].describe()"
      ],
      "metadata": {
        "colab": {
          "base_uri": "https://localhost:8080/"
        },
        "id": "24uEYQ9U0kyp",
        "outputId": "6741cef5-06a1-4875-f274-cf8a80b4b32c"
      },
      "execution_count": null,
      "outputs": [
        {
          "output_type": "execute_result",
          "data": {
            "text/plain": [
              "count    2.047690e+05\n",
              "mean     2.020607e+07\n",
              "std      5.012786e+03\n",
              "min      2.020030e+07\n",
              "25%      2.020072e+07\n",
              "50%      2.021013e+07\n",
              "75%      2.021041e+07\n",
              "max      2.022012e+07\n",
              "Name: FECHA_FALLECIMIENTO, dtype: float64"
            ]
          },
          "metadata": {},
          "execution_count": 12
        }
      ]
    },
    {
      "cell_type": "code",
      "source": [
        "fig, axes = plt.subplots(1,2, figsize = (25,6))\n",
        "\n",
        "sb.histplot(data=icfes, x = 'FECHA_FALLECIMIENTO', kde=True, ax = axes[0])\n",
        "sb.boxplot(data=icfes, x = 'FECHA_FALLECIMIENTO', ax = axes[1])"
      ],
      "metadata": {
        "colab": {
          "base_uri": "https://localhost:8080/",
          "height": 406
        },
        "id": "iJ4xN46905Y0",
        "outputId": "20362991-453a-4212-bf07-6ba38e6c440c"
      },
      "execution_count": null,
      "outputs": [
        {
          "output_type": "execute_result",
          "data": {
            "text/plain": [
              "<matplotlib.axes._subplots.AxesSubplot at 0x7f7998b20e50>"
            ]
          },
          "metadata": {},
          "execution_count": 13
        },
        {
          "output_type": "display_data",
          "data": {
            "image/png": "[encoded data removed]",
            "text/plain": [
              "<Figure size 1800x432 with 2 Axes>"
            ]
          },
          "metadata": {
            "needs_background": "light"
          }
        }
      ]
    },
    {
      "cell_type": "markdown",
      "source": [
        "GENERO DE LOS FALLECIDOS"
      ],
      "metadata": {
        "id": "qHNBl1Z32QPh"
      }
    },
    {
      "cell_type": "code",
      "source": [
        "icfes['SEXO'].value_counts()"
      ],
      "metadata": {
        "colab": {
          "base_uri": "https://localhost:8080/"
        },
        "id": "VVIEmxQI28Z_",
        "outputId": "908c7456-befe-43aa-88d8-d6ff52bd2c2a"
      },
      "execution_count": null,
      "outputs": [
        {
          "output_type": "execute_result",
          "data": {
            "text/plain": [
              "MASCULINO    130241\n",
              "FEMENINO      74525\n",
              ".                 3\n",
              "Name: SEXO, dtype: int64"
            ]
          },
          "metadata": {},
          "execution_count": 14
        }
      ]
    },
    {
      "cell_type": "code",
      "metadata": {
        "colab": {
          "base_uri": "https://localhost:8080/",
          "height": 325
        },
        "id": "3LbouGL3oP4b",
        "outputId": "0acd021e-81e0-4920-cee3-889c76878280"
      },
      "source": [
        "fig, axes = plt.subplots(1,2,figsize = (12,4))\n",
        "\n",
        "fig.suptitle('Variable Género')\n",
        "sb.countplot(ax = axes[0], data = icfes, x = 'SEXO')"
      ],
      "execution_count": null,
      "outputs": [
        {
          "output_type": "execute_result",
          "data": {
            "text/plain": [
              "<matplotlib.axes._subplots.AxesSubplot at 0x7f79995b0c10>"
            ]
          },
          "metadata": {},
          "execution_count": 15
        },
        {
          "output_type": "display_data",
          "data": {
            "image/png": "[encoded data removed]",
            "text/plain": [
              "<Figure size 864x288 with 2 Axes>"
            ]
          },
          "metadata": {
            "needs_background": "light"
          }
        }
      ]
    },
    {
      "cell_type": "code",
      "source": [
        " icfes.groupby('CLASIFICACION_DEF')['SEXO'].count().plot(kind='bar')"
      ],
      "metadata": {
        "colab": {
          "base_uri": "https://localhost:8080/",
          "height": 503
        },
        "id": "ux4Bh0qT_ZC1",
        "outputId": "7e0af845-1baf-409f-ed6e-ae0b4f73bbe4"
      },
      "execution_count": null,
      "outputs": [
        {
          "output_type": "execute_result",
          "data": {
            "text/plain": [
              "<matplotlib.axes._subplots.AxesSubplot at 0x7f79980c0dd0>"
            ]
          },
          "metadata": {},
          "execution_count": 16
        },
        {
          "output_type": "display_data",
          "data": {
            "image/png": "[encoded data removed]",
            "text/plain": [
              "<Figure size 432x288 with 1 Axes>"
            ]
          },
          "metadata": {
            "needs_background": "light"
          }
        }
      ]
    },
    {
      "cell_type": "markdown",
      "source": [
        "DEPARTAMENTO "
      ],
      "metadata": {
        "id": "pvljXO9-FCH-"
      }
    },
    {
      "cell_type": "code",
      "metadata": {
        "colab": {
          "base_uri": "https://localhost:8080/"
        },
        "id": "qPjC971rMX2A",
        "outputId": "a51625a8-6a27-4b5f-9946-74a6be5db802"
      },
      "source": [
        "icfes['DEPARTAMENTO'].unique()"
      ],
      "execution_count": null,
      "outputs": [
        {
          "output_type": "execute_result",
          "data": {
            "text/plain": [
              "array(['PIURA', 'LIMA', 'JUNIN', 'LAMBAYEQUE', 'PUNO', 'ICA', 'ANCASH',\n",
              "       'AYACUCHO', 'AREQUIPA', 'HUANUCO', 'CALLAO', 'MADRE DE DIOS',\n",
              "       'LA LIBERTAD', 'SAN MARTIN', 'CAJAMARCA', 'CUSCO', 'APURIMAC',\n",
              "       'HUANCAVELICA', 'UCAYALI', 'LORETO', 'PASCO', 'TUMBES', 'AMAZONAS',\n",
              "       'MOQUEGUA', 'TACNA'], dtype=object)"
            ]
          },
          "metadata": {},
          "execution_count": 17
        }
      ]
    },
    {
      "cell_type": "code",
      "source": [
        "fig = plt.figure(figsize=(8,6))\n",
        "sb.countplot(data = icfes, y = 'DEPARTAMENTO',order= icfes['DEPARTAMENTO'].value_counts().index)\n",
        "plt.xlabel('Cantidad de personas fallecidas')\n",
        "plt.ylabel('Departamento de residencia')"
      ],
      "metadata": {
        "colab": {
          "base_uri": "https://localhost:8080/",
          "height": 405
        },
        "id": "IYkkyI8jExAW",
        "outputId": "f1fb950c-789e-4d46-95b5-ff892f10b3f2"
      },
      "execution_count": null,
      "outputs": [
        {
          "output_type": "execute_result",
          "data": {
            "text/plain": [
              "Text(0, 0.5, 'Departamento de residencia')"
            ]
          },
          "metadata": {},
          "execution_count": 18
        },
        {
          "output_type": "display_data",
          "data": {
            "image/png": "[encoded data removed]",
            "text/plain": [
              "<Figure size 576x432 with 1 Axes>"
            ]
          },
          "metadata": {
            "needs_background": "light"
          }
        }
      ]
    },
    {
      "cell_type": "markdown",
      "source": [
        "Cantidad de fallecidos por distrito en Lima"
      ],
      "metadata": {
        "id": "FPptIm6EGuhG"
      }
    },
    {
      "cell_type": "code",
      "source": [
        "#Filtramos datos\n",
        "booleano =  icfes['PROVINCIA'] == 'LIMA'\n",
        "# Obtenemos solo a la muestra cuya clase sean los casos recurrentes \n",
        "prov_Lima = icfes[booleano]\n",
        "prov_Lima"
      ],
      "metadata": {
        "colab": {
          "base_uri": "https://localhost:8080/",
          "height": 423
        },
        "id": "ksKQExanFvuo",
        "outputId": "c3d89169-9df6-4329-d0ff-2fd4826870e4"
      },
      "execution_count": null,
      "outputs": [
        {
          "output_type": "execute_result",
          "data": {
            "text/html": [
              "\n",
              "  <div id=\"df-e0fb01d0-5da9-4f17-b193-26c4f3c0ae80\">\n",
              "    <div class=\"colab-df-container\">\n",
              "      <div>\n",
              "<style scoped>\n",
              "    .dataframe tbody tr th:only-of-type {\n",
              "        vertical-align: middle;\n",
              "    }\n",
              "\n",
              "    .dataframe tbody tr th {\n",
              "        vertical-align: top;\n",
              "    }\n",
              "\n",
              "    .dataframe thead th {\n",
              "        text-align: right;\n",
              "    }\n",
              "</style>\n",
              "<table border=\"1\" class=\"dataframe\">\n",
              "  <thead>\n",
              "    <tr style=\"text-align: right;\">\n",
              "      <th></th>\n",
              "      <th>FECHA_CORTE</th>\n",
              "      <th>FECHA_FALLECIMIENTO</th>\n",
              "      <th>EDAD_DECLARADA</th>\n",
              "      <th>SEXO</th>\n",
              "      <th>CLASIFICACION_DEF</th>\n",
              "      <th>DEPARTAMENTO</th>\n",
              "      <th>PROVINCIA</th>\n",
              "      <th>DISTRITO</th>\n",
              "      <th>UBIGEO</th>\n",
              "      <th>UUID</th>\n",
              "    </tr>\n",
              "  </thead>\n",
              "  <tbody>\n",
              "    <tr>\n",
              "      <th>2</th>\n",
              "      <td>20220125</td>\n",
              "      <td>20210214</td>\n",
              "      <td>28</td>\n",
              "      <td>FEMENINO</td>\n",
              "      <td>Criterio radiolÃƒÂ³gico</td>\n",
              "      <td>LIMA</td>\n",
              "      <td>LIMA</td>\n",
              "      <td>SAN JUAN DE MIRAFLORES</td>\n",
              "      <td>150133</td>\n",
              "      <td>24652408.0</td>\n",
              "    </tr>\n",
              "    <tr>\n",
              "      <th>6</th>\n",
              "      <td>20220125</td>\n",
              "      <td>20210622</td>\n",
              "      <td>68</td>\n",
              "      <td>MASCULINO</td>\n",
              "      <td>Criterio virolÃƒÂ³gico</td>\n",
              "      <td>LIMA</td>\n",
              "      <td>LIMA</td>\n",
              "      <td>VILLA MARIA DEL TRIUNFO</td>\n",
              "      <td>150143</td>\n",
              "      <td>24675687.0</td>\n",
              "    </tr>\n",
              "    <tr>\n",
              "      <th>7</th>\n",
              "      <td>20220125</td>\n",
              "      <td>20210416</td>\n",
              "      <td>54</td>\n",
              "      <td>MASCULINO</td>\n",
              "      <td>Criterio SINADEF</td>\n",
              "      <td>LIMA</td>\n",
              "      <td>LIMA</td>\n",
              "      <td>VILLA MARIA DEL TRIUNFO</td>\n",
              "      <td>150143</td>\n",
              "      <td>24675697.0</td>\n",
              "    </tr>\n",
              "    <tr>\n",
              "      <th>8</th>\n",
              "      <td>20220125</td>\n",
              "      <td>20210401</td>\n",
              "      <td>74</td>\n",
              "      <td>FEMENINO</td>\n",
              "      <td>Criterio virolÃƒÂ³gico</td>\n",
              "      <td>LIMA</td>\n",
              "      <td>LIMA</td>\n",
              "      <td>VILLA MARIA DEL TRIUNFO</td>\n",
              "      <td>150143</td>\n",
              "      <td>24675753.0</td>\n",
              "    </tr>\n",
              "    <tr>\n",
              "      <th>12</th>\n",
              "      <td>20220125</td>\n",
              "      <td>20210426</td>\n",
              "      <td>29</td>\n",
              "      <td>MASCULINO</td>\n",
              "      <td>Criterio SINADEF</td>\n",
              "      <td>LIMA</td>\n",
              "      <td>LIMA</td>\n",
              "      <td>CHORRILLOS</td>\n",
              "      <td>150108</td>\n",
              "      <td>24653916.0</td>\n",
              "    </tr>\n",
              "    <tr>\n",
              "      <th>...</th>\n",
              "      <td>...</td>\n",
              "      <td>...</td>\n",
              "      <td>...</td>\n",
              "      <td>...</td>\n",
              "      <td>...</td>\n",
              "      <td>...</td>\n",
              "      <td>...</td>\n",
              "      <td>...</td>\n",
              "      <td>...</td>\n",
              "      <td>...</td>\n",
              "    </tr>\n",
              "    <tr>\n",
              "      <th>204754</th>\n",
              "      <td>20220125</td>\n",
              "      <td>20200504</td>\n",
              "      <td>81</td>\n",
              "      <td>MASCULINO</td>\n",
              "      <td>Criterio investigaciÃƒÂ³n EpidemiolÃƒÂ³gica</td>\n",
              "      <td>LIMA</td>\n",
              "      <td>LIMA</td>\n",
              "      <td>LIMA</td>\n",
              "      <td>150101</td>\n",
              "      <td>NaN</td>\n",
              "    </tr>\n",
              "    <tr>\n",
              "      <th>204755</th>\n",
              "      <td>20220125</td>\n",
              "      <td>20200610</td>\n",
              "      <td>51</td>\n",
              "      <td>FEMENINO</td>\n",
              "      <td>Criterio SINADEF</td>\n",
              "      <td>LIMA</td>\n",
              "      <td>LIMA</td>\n",
              "      <td>SAN MARTIN DE PORRES</td>\n",
              "      <td>150135</td>\n",
              "      <td>NaN</td>\n",
              "    </tr>\n",
              "    <tr>\n",
              "      <th>204756</th>\n",
              "      <td>20220125</td>\n",
              "      <td>20200503</td>\n",
              "      <td>38</td>\n",
              "      <td>FEMENINO</td>\n",
              "      <td>Criterio SINADEF</td>\n",
              "      <td>LIMA</td>\n",
              "      <td>LIMA</td>\n",
              "      <td>SAN MARTIN DE PORRES</td>\n",
              "      <td>150135</td>\n",
              "      <td>NaN</td>\n",
              "    </tr>\n",
              "    <tr>\n",
              "      <th>204765</th>\n",
              "      <td>20220125</td>\n",
              "      <td>20211003</td>\n",
              "      <td>30</td>\n",
              "      <td>FEMENINO</td>\n",
              "      <td>Criterio clÃƒÂ­nico</td>\n",
              "      <td>LIMA</td>\n",
              "      <td>LIMA</td>\n",
              "      <td>SAN JUAN DE LURIGANCHO</td>\n",
              "      <td>150132</td>\n",
              "      <td>NaN</td>\n",
              "    </tr>\n",
              "    <tr>\n",
              "      <th>204767</th>\n",
              "      <td>20220125</td>\n",
              "      <td>20200510</td>\n",
              "      <td>60</td>\n",
              "      <td>MASCULINO</td>\n",
              "      <td>Criterio clÃƒÂ­nico</td>\n",
              "      <td>LIMA</td>\n",
              "      <td>LIMA</td>\n",
              "      <td>SAN JUAN DE LURIGANCHO</td>\n",
              "      <td>150132</td>\n",
              "      <td>NaN</td>\n",
              "    </tr>\n",
              "  </tbody>\n",
              "</table>\n",
              "<p>83071 rows × 10 columns</p>\n",
              "</div>\n",
              "      <button class=\"colab-df-convert\" onclick=\"convertToInteractive('df-e0fb01d0-5da9-4f17-b193-26c4f3c0ae80')\"\n",
              "              title=\"Convert this dataframe to an interactive table.\"\n",
              "              style=\"display:none;\">\n",
              "        \n",
              "  <svg xmlns=\"http://www.w3.org/2000/svg\" height=\"24px\"viewBox=\"0 0 24 24\"\n",
              "       width=\"24px\">\n",
              "    <path d=\"M0 0h24v24H0V0z\" fill=\"none\"/>\n",
              "    <path d=\"M18.56 5.44l.94 2.06.94-2.06 2.06-.94-2.06-.94-.94-2.06-.94 2.06-2.06.94zm-11 1L8.5 8.5l.94-2.06 2.06-.94-2.06-.94L8.5 2.5l-.94 2.06-2.06.94zm10 10l.94 2.06.94-2.06 2.06-.94-2.06-.94-.94-2.06-.94 2.06-2.06.94z\"/><path d=\"M17.41 7.96l-1.37-1.37c-.4-.4-.92-.59-1.43-.59-.52 0-1.04.2-1.43.59L10.3 9.45l-7.72 7.72c-.78.78-.78 2.05 0 2.83L4 21.41c.39.39.9.59 1.41.59.51 0 1.02-.2 1.41-.59l7.78-7.78 2.81-2.81c.8-.78.8-2.07 0-2.86zM5.41 20L4 18.59l7.72-7.72 1.47 1.35L5.41 20z\"/>\n",
              "  </svg>\n",
              "      </button>\n",
              "      \n",
              "  <style>\n",
              "    .colab-df-container {\n",
              "      display:flex;\n",
              "      flex-wrap:wrap;\n",
              "      gap: 12px;\n",
              "    }\n",
              "\n",
              "    .colab-df-convert {\n",
              "      background-color: #E8F0FE;\n",
              "      border: none;\n",
              "      border-radius: 50%;\n",
              "      cursor: pointer;\n",
              "      display: none;\n",
              "      fill: #1967D2;\n",
              "      height: 32px;\n",
              "      padding: 0 0 0 0;\n",
              "      width: 32px;\n",
              "    }\n",
              "\n",
              "    .colab-df-convert:hover {\n",
              "      background-color: #E2EBFA;\n",
              "      box-shadow: 0px 1px 2px rgba(60, 64, 67, 0.3), 0px 1px 3px 1px rgba(60, 64, 67, 0.15);\n",
              "      fill: #174EA6;\n",
              "    }\n",
              "\n",
              "    [theme=dark] .colab-df-convert {\n",
              "      background-color: #3B4455;\n",
              "      fill: #D2E3FC;\n",
              "    }\n",
              "\n",
              "    [theme=dark] .colab-df-convert:hover {\n",
              "      background-color: #434B5C;\n",
              "      box-shadow: 0px 1px 3px 1px rgba(0, 0, 0, 0.15);\n",
              "      filter: drop-shadow(0px 1px 2px rgba(0, 0, 0, 0.3));\n",
              "      fill: #FFFFFF;\n",
              "    }\n",
              "  </style>\n",
              "\n",
              "      <script>\n",
              "        const buttonEl =\n",
              "          document.querySelector('#df-e0fb01d0-5da9-4f17-b193-26c4f3c0ae80 button.colab-df-convert');\n",
              "        buttonEl.style.display =\n",
              "          google.colab.kernel.accessAllowed ? 'block' : 'none';\n",
              "\n",
              "        async function convertToInteractive(key) {\n",
              "          const element = document.querySelector('#df-e0fb01d0-5da9-4f17-b193-26c4f3c0ae80');\n",
              "          const dataTable =\n",
              "            await google.colab.kernel.invokeFunction('convertToInteractive',\n",
              "                                                     [key], {});\n",
              "          if (!dataTable) return;\n",
              "\n",
              "          const docLinkHtml = 'Like what you see? Visit the ' +\n",
              "            '<a target=\"_blank\" href=https://colab.research.google.com/notebooks/data_table.ipynb>data table notebook</a>'\n",
              "            + ' to learn more about interactive tables.';\n",
              "          element.innerHTML = '';\n",
              "          dataTable['output_type'] = 'display_data';\n",
              "          await google.colab.output.renderOutput(dataTable, element);\n",
              "          const docLink = document.createElement('div');\n",
              "          docLink.innerHTML = docLinkHtml;\n",
              "          element.appendChild(docLink);\n",
              "        }\n",
              "      </script>\n",
              "    </div>\n",
              "  </div>\n",
              "  "
            ],
            "text/plain": [
              "        FECHA_CORTE  FECHA_FALLECIMIENTO  ...  UBIGEO        UUID\n",
              "2          20220125             20210214  ...  150133  24652408.0\n",
              "6          20220125             20210622  ...  150143  24675687.0\n",
              "7          20220125             20210416  ...  150143  24675697.0\n",
              "8          20220125             20210401  ...  150143  24675753.0\n",
              "12         20220125             20210426  ...  150108  24653916.0\n",
              "...             ...                  ...  ...     ...         ...\n",
              "204754     20220125             20200504  ...  150101         NaN\n",
              "204755     20220125             20200610  ...  150135         NaN\n",
              "204756     20220125             20200503  ...  150135         NaN\n",
              "204765     20220125             20211003  ...  150132         NaN\n",
              "204767     20220125             20200510  ...  150132         NaN\n",
              "\n",
              "[83071 rows x 10 columns]"
            ]
          },
          "metadata": {},
          "execution_count": 19
        }
      ]
    },
    {
      "cell_type": "code",
      "source": [
        "fig = plt.figure(figsize=(15,15))\n",
        "sb.countplot(data = prov_Lima, y = 'DISTRITO',order= prov_Lima['DISTRITO'].value_counts().index)\n",
        "plt.xlabel('Cantidad de personas fallecidas')\n",
        "plt.ylabel('Distrito de lima')"
      ],
      "metadata": {
        "colab": {
          "base_uri": "https://localhost:8080/",
          "height": 893
        },
        "id": "oGb1HZCiGFxm",
        "outputId": "067e2250-6578-48b8-a8f7-651b710f7eb5"
      },
      "execution_count": null,
      "outputs": [
        {
          "output_type": "execute_result",
          "data": {
            "text/plain": [
              "Text(0, 0.5, 'Distrito de lima')"
            ]
          },
          "metadata": {},
          "execution_count": 20
        },
        {
          "output_type": "display_data",
          "data": {
            "image/png": "[encoded data removed]",
            "text/plain": [
              "<Figure size 1080x1080 with 1 Axes>"
            ]
          },
          "metadata": {
            "needs_background": "light"
          }
        }
      ]
    },
    {
      "cell_type": "markdown",
      "metadata": {
        "id": "uZyJ-6b0rebl"
      },
      "source": [
        "## **Preparación: Transformación y limpieza**"
      ]
    },
    {
      "cell_type": "code",
      "source": [
        "icfes.isnull().sum()"
      ],
      "metadata": {
        "colab": {
          "base_uri": "https://localhost:8080/"
        },
        "id": "NdC--PWxLtHq",
        "outputId": "61ef5384-704d-4b1d-d181-54624db2dc59"
      },
      "execution_count": null,
      "outputs": [
        {
          "output_type": "execute_result",
          "data": {
            "text/plain": [
              "FECHA_CORTE               0\n",
              "FECHA_FALLECIMIENTO       0\n",
              "EDAD_DECLARADA            0\n",
              "SEXO                      0\n",
              "CLASIFICACION_DEF         0\n",
              "DEPARTAMENTO              0\n",
              "PROVINCIA                 5\n",
              "DISTRITO                  5\n",
              "UBIGEO                    0\n",
              "UUID                   3443\n",
              "dtype: int64"
            ]
          },
          "metadata": {},
          "execution_count": 21
        }
      ]
    },
    {
      "cell_type": "markdown",
      "source": [
        "Eliminamos los registros que tienen datos nulos "
      ],
      "metadata": {
        "id": "9tocaPFwL775"
      }
    },
    {
      "cell_type": "code",
      "source": [
        "icfes = icfes[icfes['UUID'].notna()]\n",
        "icfes = icfes[icfes['DISTRITO'].notna()]\n",
        "icfes.isnull().sum()"
      ],
      "metadata": {
        "colab": {
          "base_uri": "https://localhost:8080/"
        },
        "id": "V6drq6KcMHSw",
        "outputId": "0938d0bd-cbd5-43a9-de0c-1ae6b10baed9"
      },
      "execution_count": null,
      "outputs": [
        {
          "output_type": "execute_result",
          "data": {
            "text/plain": [
              "FECHA_CORTE            0\n",
              "FECHA_FALLECIMIENTO    0\n",
              "EDAD_DECLARADA         0\n",
              "SEXO                   0\n",
              "CLASIFICACION_DEF      0\n",
              "DEPARTAMENTO           0\n",
              "PROVINCIA              0\n",
              "DISTRITO               0\n",
              "UBIGEO                 0\n",
              "UUID                   0\n",
              "dtype: int64"
            ]
          },
          "metadata": {},
          "execution_count": 22
        }
      ]
    },
    {
      "cell_type": "markdown",
      "source": [
        "Registros duplicados "
      ],
      "metadata": {
        "id": "dzPKS7qSOWTF"
      }
    },
    {
      "cell_type": "code",
      "source": [
        "import numpy as np\n",
        "duplicates = []\n",
        "for col in range(icfes.shape[1]):\n",
        "    contents = icfes.iloc[:, col]\n",
        "    \n",
        "    for comp in range(col + 1, icfes.shape[1]):\n",
        "        if contents.equals(icfes.iloc[:, comp]):\n",
        "            duplicates.append(comp)\n",
        "duplicates = np.unique(duplicates).tolist()\n",
        "duplicates"
      ],
      "metadata": {
        "colab": {
          "base_uri": "https://localhost:8080/"
        },
        "id": "YYHUQFiKNCWr",
        "outputId": "b78597eb-e28b-4dbf-a198-d32814b44b88"
      },
      "execution_count": null,
      "outputs": [
        {
          "output_type": "execute_result",
          "data": {
            "text/plain": [
              "[]"
            ]
          },
          "metadata": {},
          "execution_count": 23
        }
      ]
    },
    {
      "cell_type": "code",
      "source": [
        "plt.boxplot(icfes['EDAD_DECLARADA'],vert=False)\n",
        "plt.show()"
      ],
      "metadata": {
        "colab": {
          "base_uri": "https://localhost:8080/",
          "height": 265
        },
        "id": "UMx9PUNVOi46",
        "outputId": "95a6ca4e-6707-4a16-ccb1-20bed15042c1"
      },
      "execution_count": null,
      "outputs": [
        {
          "output_type": "display_data",
          "data": {
            "image/png": "[encoded data removed]",
            "text/plain": [
              "<Figure size 432x288 with 1 Axes>"
            ]
          },
          "metadata": {
            "needs_background": "light"
          }
        }
      ]
    },
    {
      "cell_type": "code",
      "source": [
        "Q1 = icfes['EDAD_DECLARADA'].quantile(0.25)\n",
        "print(\"Primer Cuartil\",Q1)\n",
        "Q3 = icfes['EDAD_DECLARADA'].quantile(0.75)\n",
        "print(\"Tercer Cuartil\",Q3)\n",
        "\n",
        "IQR = Q3 - Q1\n",
        "print(\"Rango Intercuartil\",IQR)\n",
        "Mediana = icfes['EDAD_DECLARADA'].median()\n",
        "print(\"Mediana\",Mediana)\n",
        "\n",
        "Valor_Min = icfes['EDAD_DECLARADA'].min()\n",
        "print(\"Valor minimo\",Valor_Min)\n",
        "\n",
        "Valor_Max = icfes['EDAD_DECLARADA'].max()\n",
        "print(\"Valor minimo\",Valor_Max)"
      ],
      "metadata": {
        "colab": {
          "base_uri": "https://localhost:8080/"
        },
        "id": "ScNjdMFzPhc8",
        "outputId": "2473dfc2-36ee-4599-9660-261b38d6282b"
      },
      "execution_count": null,
      "outputs": [
        {
          "output_type": "stream",
          "name": "stdout",
          "text": [
            "Primer Cuartil 57.0\n",
            "Tercer Cuartil 77.0\n",
            "Rango Intercuartil 20.0\n",
            "Mediana 67.0\n",
            "Valor minimo -9\n",
            "Valor minimo 117\n"
          ]
        }
      ]
    },
    {
      "cell_type": "code",
      "source": [
        "BI_Calculado = (Q1-1.5 * IQR)\n",
        "print(\"BI_Calculado\\n\", BI_Calculado)\n",
        "\n",
        "BS_Calculado = (Q3+1.5 * IQR)\n",
        "print(\"BS_Calculado\\n\", BS_Calculado)"
      ],
      "metadata": {
        "colab": {
          "base_uri": "https://localhost:8080/"
        },
        "id": "eqFjr57dQJ5N",
        "outputId": "c13b74ca-fa6c-4dcb-e220-86740ae7af04"
      },
      "execution_count": null,
      "outputs": [
        {
          "output_type": "stream",
          "name": "stdout",
          "text": [
            "BI_Calculado\n",
            " 27.0\n",
            "BS_Calculado\n",
            " 107.0\n"
          ]
        }
      ]
    },
    {
      "cell_type": "markdown",
      "source": [
        "Identificamos los valores Outliers"
      ],
      "metadata": {
        "id": "QuOCdTc_VLoV"
      }
    },
    {
      "cell_type": "code",
      "source": [
        "outliers = ((icfes['EDAD_DECLARADA']<BI_Calculado) | (icfes['EDAD_DECLARADA']>BS_Calculado ))\n",
        "valor = icfes[outliers]\n",
        "print(valor[\"EDAD_DECLARADA\"])"
      ],
      "metadata": {
        "colab": {
          "base_uri": "https://localhost:8080/"
        },
        "id": "BPS-cat8QMrk",
        "outputId": "22150cfd-dcc0-43ff-c185-3ca1fdf3a03c"
      },
      "execution_count": null,
      "outputs": [
        {
          "output_type": "stream",
          "name": "stdout",
          "text": [
            "13        19\n",
            "34        23\n",
            "40        22\n",
            "42        20\n",
            "48        24\n",
            "          ..\n",
            "201166    13\n",
            "201178    25\n",
            "201189     1\n",
            "201270    22\n",
            "201378    25\n",
            "Name: EDAD_DECLARADA, Length: 2538, dtype: int64\n"
          ]
        }
      ]
    },
    {
      "cell_type": "markdown",
      "source": [
        "Eliminamos valores Outliers"
      ],
      "metadata": {
        "id": "nYLEHaXCVSgS"
      }
    },
    {
      "cell_type": "code",
      "source": [
        "indexNames = icfes[(icfes['EDAD_DECLARADA']<0) | (icfes['EDAD_DECLARADA']>110)].index\n",
        "icfes.drop(indexNames , inplace=True)\n",
        "icfes"
      ],
      "metadata": {
        "colab": {
          "base_uri": "https://localhost:8080/",
          "height": 423
        },
        "id": "EAXn7zsYRtMr",
        "outputId": "2b373603-1974-4d1e-9231-6da3b45e65c8"
      },
      "execution_count": null,
      "outputs": [
        {
          "output_type": "execute_result",
          "data": {
            "text/html": [
              "\n",
              "  <div id=\"df-940a202b-f656-44f9-9c36-28583a8c0327\">\n",
              "    <div class=\"colab-df-container\">\n",
              "      <div>\n",
              "<style scoped>\n",
              "    .dataframe tbody tr th:only-of-type {\n",
              "        vertical-align: middle;\n",
              "    }\n",
              "\n",
              "    .dataframe tbody tr th {\n",
              "        vertical-align: top;\n",
              "    }\n",
              "\n",
              "    .dataframe thead th {\n",
              "        text-align: right;\n",
              "    }\n",
              "</style>\n",
              "<table border=\"1\" class=\"dataframe\">\n",
              "  <thead>\n",
              "    <tr style=\"text-align: right;\">\n",
              "      <th></th>\n",
              "      <th>FECHA_CORTE</th>\n",
              "      <th>FECHA_FALLECIMIENTO</th>\n",
              "      <th>EDAD_DECLARADA</th>\n",
              "      <th>SEXO</th>\n",
              "      <th>CLASIFICACION_DEF</th>\n",
              "      <th>DEPARTAMENTO</th>\n",
              "      <th>PROVINCIA</th>\n",
              "      <th>DISTRITO</th>\n",
              "      <th>UBIGEO</th>\n",
              "      <th>UUID</th>\n",
              "    </tr>\n",
              "  </thead>\n",
              "  <tbody>\n",
              "    <tr>\n",
              "      <th>0</th>\n",
              "      <td>20220125</td>\n",
              "      <td>20210607</td>\n",
              "      <td>31</td>\n",
              "      <td>MASCULINO</td>\n",
              "      <td>Criterio SINADEF</td>\n",
              "      <td>PIURA</td>\n",
              "      <td>SULLANA</td>\n",
              "      <td>SULLANA</td>\n",
              "      <td>200601</td>\n",
              "      <td>24804325.0</td>\n",
              "    </tr>\n",
              "    <tr>\n",
              "      <th>1</th>\n",
              "      <td>20220125</td>\n",
              "      <td>20210716</td>\n",
              "      <td>93</td>\n",
              "      <td>FEMENINO</td>\n",
              "      <td>Criterio SINADEF</td>\n",
              "      <td>PIURA</td>\n",
              "      <td>PIURA</td>\n",
              "      <td>VEINTISEIS DE OCTUBRE</td>\n",
              "      <td>200115</td>\n",
              "      <td>24652285.0</td>\n",
              "    </tr>\n",
              "    <tr>\n",
              "      <th>2</th>\n",
              "      <td>20220125</td>\n",
              "      <td>20210214</td>\n",
              "      <td>28</td>\n",
              "      <td>FEMENINO</td>\n",
              "      <td>Criterio radiolÃƒÂ³gico</td>\n",
              "      <td>LIMA</td>\n",
              "      <td>LIMA</td>\n",
              "      <td>SAN JUAN DE MIRAFLORES</td>\n",
              "      <td>150133</td>\n",
              "      <td>24652408.0</td>\n",
              "    </tr>\n",
              "    <tr>\n",
              "      <th>3</th>\n",
              "      <td>20220125</td>\n",
              "      <td>20210722</td>\n",
              "      <td>47</td>\n",
              "      <td>MASCULINO</td>\n",
              "      <td>Criterio serolÃƒÂ³gico</td>\n",
              "      <td>JUNIN</td>\n",
              "      <td>HUANCAYO</td>\n",
              "      <td>CHILCA</td>\n",
              "      <td>120107</td>\n",
              "      <td>24652744.0</td>\n",
              "    </tr>\n",
              "    <tr>\n",
              "      <th>4</th>\n",
              "      <td>20220125</td>\n",
              "      <td>20200505</td>\n",
              "      <td>87</td>\n",
              "      <td>MASCULINO</td>\n",
              "      <td>Criterio SINADEF</td>\n",
              "      <td>LAMBAYEQUE</td>\n",
              "      <td>CHICLAYO</td>\n",
              "      <td>CHICLAYO</td>\n",
              "      <td>140101</td>\n",
              "      <td>24803428.0</td>\n",
              "    </tr>\n",
              "    <tr>\n",
              "      <th>...</th>\n",
              "      <td>...</td>\n",
              "      <td>...</td>\n",
              "      <td>...</td>\n",
              "      <td>...</td>\n",
              "      <td>...</td>\n",
              "      <td>...</td>\n",
              "      <td>...</td>\n",
              "      <td>...</td>\n",
              "      <td>...</td>\n",
              "      <td>...</td>\n",
              "    </tr>\n",
              "    <tr>\n",
              "      <th>201704</th>\n",
              "      <td>20220125</td>\n",
              "      <td>20210326</td>\n",
              "      <td>51</td>\n",
              "      <td>MASCULINO</td>\n",
              "      <td>Criterio nexo epidemiolÃƒÂ³gico</td>\n",
              "      <td>PUNO</td>\n",
              "      <td>CARABAYA</td>\n",
              "      <td>MACUSANI</td>\n",
              "      <td>210301</td>\n",
              "      <td>19241810.0</td>\n",
              "    </tr>\n",
              "    <tr>\n",
              "      <th>201705</th>\n",
              "      <td>20220125</td>\n",
              "      <td>20210704</td>\n",
              "      <td>45</td>\n",
              "      <td>MASCULINO</td>\n",
              "      <td>Criterio virolÃƒÂ³gico</td>\n",
              "      <td>AREQUIPA</td>\n",
              "      <td>CAYLLOMA</td>\n",
              "      <td>MAJES</td>\n",
              "      <td>40520</td>\n",
              "      <td>19270208.0</td>\n",
              "    </tr>\n",
              "    <tr>\n",
              "      <th>201706</th>\n",
              "      <td>20220125</td>\n",
              "      <td>20210530</td>\n",
              "      <td>71</td>\n",
              "      <td>MASCULINO</td>\n",
              "      <td>Criterio virolÃƒÂ³gico</td>\n",
              "      <td>APURIMAC</td>\n",
              "      <td>CHINCHEROS</td>\n",
              "      <td>CHINCHEROS</td>\n",
              "      <td>30601</td>\n",
              "      <td>19270226.0</td>\n",
              "    </tr>\n",
              "    <tr>\n",
              "      <th>201707</th>\n",
              "      <td>20220125</td>\n",
              "      <td>20210620</td>\n",
              "      <td>82</td>\n",
              "      <td>MASCULINO</td>\n",
              "      <td>Criterio virolÃƒÂ³gico</td>\n",
              "      <td>JUNIN</td>\n",
              "      <td>JAUJA</td>\n",
              "      <td>MOLINOS</td>\n",
              "      <td>120418</td>\n",
              "      <td>19270402.0</td>\n",
              "    </tr>\n",
              "    <tr>\n",
              "      <th>201708</th>\n",
              "      <td>20220125</td>\n",
              "      <td>20210314</td>\n",
              "      <td>42</td>\n",
              "      <td>MASCULINO</td>\n",
              "      <td>Criterio virolÃƒÂ³gico</td>\n",
              "      <td>LIMA</td>\n",
              "      <td>LIMA</td>\n",
              "      <td>SANTA ANITA</td>\n",
              "      <td>150137</td>\n",
              "      <td>19246482.0</td>\n",
              "    </tr>\n",
              "  </tbody>\n",
              "</table>\n",
              "<p>201318 rows × 10 columns</p>\n",
              "</div>\n",
              "      <button class=\"colab-df-convert\" onclick=\"convertToInteractive('df-940a202b-f656-44f9-9c36-28583a8c0327')\"\n",
              "              title=\"Convert this dataframe to an interactive table.\"\n",
              "              style=\"display:none;\">\n",
              "        \n",
              "  <svg xmlns=\"http://www.w3.org/2000/svg\" height=\"24px\"viewBox=\"0 0 24 24\"\n",
              "       width=\"24px\">\n",
              "    <path d=\"M0 0h24v24H0V0z\" fill=\"none\"/>\n",
              "    <path d=\"M18.56 5.44l.94 2.06.94-2.06 2.06-.94-2.06-.94-.94-2.06-.94 2.06-2.06.94zm-11 1L8.5 8.5l.94-2.06 2.06-.94-2.06-.94L8.5 2.5l-.94 2.06-2.06.94zm10 10l.94 2.06.94-2.06 2.06-.94-2.06-.94-.94-2.06-.94 2.06-2.06.94z\"/><path d=\"M17.41 7.96l-1.37-1.37c-.4-.4-.92-.59-1.43-.59-.52 0-1.04.2-1.43.59L10.3 9.45l-7.72 7.72c-.78.78-.78 2.05 0 2.83L4 21.41c.39.39.9.59 1.41.59.51 0 1.02-.2 1.41-.59l7.78-7.78 2.81-2.81c.8-.78.8-2.07 0-2.86zM5.41 20L4 18.59l7.72-7.72 1.47 1.35L5.41 20z\"/>\n",
              "  </svg>\n",
              "      </button>\n",
              "      \n",
              "  <style>\n",
              "    .colab-df-container {\n",
              "      display:flex;\n",
              "      flex-wrap:wrap;\n",
              "      gap: 12px;\n",
              "    }\n",
              "\n",
              "    .colab-df-convert {\n",
              "      background-color: #E8F0FE;\n",
              "      border: none;\n",
              "      border-radius: 50%;\n",
              "      cursor: pointer;\n",
              "      display: none;\n",
              "      fill: #1967D2;\n",
              "      height: 32px;\n",
              "      padding: 0 0 0 0;\n",
              "      width: 32px;\n",
              "    }\n",
              "\n",
              "    .colab-df-convert:hover {\n",
              "      background-color: #E2EBFA;\n",
              "      box-shadow: 0px 1px 2px rgba(60, 64, 67, 0.3), 0px 1px 3px 1px rgba(60, 64, 67, 0.15);\n",
              "      fill: #174EA6;\n",
              "    }\n",
              "\n",
              "    [theme=dark] .colab-df-convert {\n",
              "      background-color: #3B4455;\n",
              "      fill: #D2E3FC;\n",
              "    }\n",
              "\n",
              "    [theme=dark] .colab-df-convert:hover {\n",
              "      background-color: #434B5C;\n",
              "      box-shadow: 0px 1px 3px 1px rgba(0, 0, 0, 0.15);\n",
              "      filter: drop-shadow(0px 1px 2px rgba(0, 0, 0, 0.3));\n",
              "      fill: #FFFFFF;\n",
              "    }\n",
              "  </style>\n",
              "\n",
              "      <script>\n",
              "        const buttonEl =\n",
              "          document.querySelector('#df-940a202b-f656-44f9-9c36-28583a8c0327 button.colab-df-convert');\n",
              "        buttonEl.style.display =\n",
              "          google.colab.kernel.accessAllowed ? 'block' : 'none';\n",
              "\n",
              "        async function convertToInteractive(key) {\n",
              "          const element = document.querySelector('#df-940a202b-f656-44f9-9c36-28583a8c0327');\n",
              "          const dataTable =\n",
              "            await google.colab.kernel.invokeFunction('convertToInteractive',\n",
              "                                                     [key], {});\n",
              "          if (!dataTable) return;\n",
              "\n",
              "          const docLinkHtml = 'Like what you see? Visit the ' +\n",
              "            '<a target=\"_blank\" href=https://colab.research.google.com/notebooks/data_table.ipynb>data table notebook</a>'\n",
              "            + ' to learn more about interactive tables.';\n",
              "          element.innerHTML = '';\n",
              "          dataTable['output_type'] = 'display_data';\n",
              "          await google.colab.output.renderOutput(dataTable, element);\n",
              "          const docLink = document.createElement('div');\n",
              "          docLink.innerHTML = docLinkHtml;\n",
              "          element.appendChild(docLink);\n",
              "        }\n",
              "      </script>\n",
              "    </div>\n",
              "  </div>\n",
              "  "
            ],
            "text/plain": [
              "        FECHA_CORTE  FECHA_FALLECIMIENTO  ...  UBIGEO        UUID\n",
              "0          20220125             20210607  ...  200601  24804325.0\n",
              "1          20220125             20210716  ...  200115  24652285.0\n",
              "2          20220125             20210214  ...  150133  24652408.0\n",
              "3          20220125             20210722  ...  120107  24652744.0\n",
              "4          20220125             20200505  ...  140101  24803428.0\n",
              "...             ...                  ...  ...     ...         ...\n",
              "201704     20220125             20210326  ...  210301  19241810.0\n",
              "201705     20220125             20210704  ...   40520  19270208.0\n",
              "201706     20220125             20210530  ...   30601  19270226.0\n",
              "201707     20220125             20210620  ...  120418  19270402.0\n",
              "201708     20220125             20210314  ...  150137  19246482.0\n",
              "\n",
              "[201318 rows x 10 columns]"
            ]
          },
          "metadata": {},
          "execution_count": 28
        }
      ]
    },
    {
      "cell_type": "markdown",
      "source": [
        "Agrupamiento de datos - Edad"
      ],
      "metadata": {
        "id": "usp5RrFOWfcp"
      }
    },
    {
      "cell_type": "markdown",
      "source": [
        "Agruparemos las edades por 0 - 10 , 11 - 20 , 21 - 30 , 31 - 40 , 41 - 50 , 51 - 60, 61 - 70, 71 - 80, 81 - 90, 91 - 100, 101 - 110"
      ],
      "metadata": {
        "id": "DNj91YQkWv_C"
      }
    },
    {
      "cell_type": "code",
      "source": [
        "bins = [0,10,20,30,40,50,60,70,80,90,100,111]\n",
        "names = [\"1\",\"2\",\"3\",\"4\",\"5\",\"6\",\"7\",\"8\",\"9\",\"10\",\"11\"]\n",
        "icfes[\"EDAD_DECLARADA\"] = pd.cut(icfes[\"EDAD_DECLARADA\"],bins,labels=names)"
      ],
      "metadata": {
        "id": "J-ImK2J7WfNj"
      },
      "execution_count": null,
      "outputs": []
    },
    {
      "cell_type": "code",
      "source": [
        "icfes_agrupada = icfes\n",
        "icfes_agrupada"
      ],
      "metadata": {
        "colab": {
          "base_uri": "https://localhost:8080/",
          "height": 423
        },
        "id": "VP0mx5tPX7MS",
        "outputId": "8a1b60a4-26c1-41b2-c49d-2a89e3b03ac8"
      },
      "execution_count": null,
      "outputs": [
        {
          "output_type": "execute_result",
          "data": {
            "text/html": [
              "\n",
              "  <div id=\"df-51727a58-6c99-4d1a-8671-a76c09428b35\">\n",
              "    <div class=\"colab-df-container\">\n",
              "      <div>\n",
              "<style scoped>\n",
              "    .dataframe tbody tr th:only-of-type {\n",
              "        vertical-align: middle;\n",
              "    }\n",
              "\n",
              "    .dataframe tbody tr th {\n",
              "        vertical-align: top;\n",
              "    }\n",
              "\n",
              "    .dataframe thead th {\n",
              "        text-align: right;\n",
              "    }\n",
              "</style>\n",
              "<table border=\"1\" class=\"dataframe\">\n",
              "  <thead>\n",
              "    <tr style=\"text-align: right;\">\n",
              "      <th></th>\n",
              "      <th>FECHA_CORTE</th>\n",
              "      <th>FECHA_FALLECIMIENTO</th>\n",
              "      <th>EDAD_DECLARADA</th>\n",
              "      <th>SEXO</th>\n",
              "      <th>CLASIFICACION_DEF</th>\n",
              "      <th>DEPARTAMENTO</th>\n",
              "      <th>PROVINCIA</th>\n",
              "      <th>DISTRITO</th>\n",
              "      <th>UBIGEO</th>\n",
              "      <th>UUID</th>\n",
              "    </tr>\n",
              "  </thead>\n",
              "  <tbody>\n",
              "    <tr>\n",
              "      <th>0</th>\n",
              "      <td>20220125</td>\n",
              "      <td>20210607</td>\n",
              "      <td>4</td>\n",
              "      <td>MASCULINO</td>\n",
              "      <td>Criterio SINADEF</td>\n",
              "      <td>PIURA</td>\n",
              "      <td>SULLANA</td>\n",
              "      <td>SULLANA</td>\n",
              "      <td>200601</td>\n",
              "      <td>24804325.0</td>\n",
              "    </tr>\n",
              "    <tr>\n",
              "      <th>1</th>\n",
              "      <td>20220125</td>\n",
              "      <td>20210716</td>\n",
              "      <td>10</td>\n",
              "      <td>FEMENINO</td>\n",
              "      <td>Criterio SINADEF</td>\n",
              "      <td>PIURA</td>\n",
              "      <td>PIURA</td>\n",
              "      <td>VEINTISEIS DE OCTUBRE</td>\n",
              "      <td>200115</td>\n",
              "      <td>24652285.0</td>\n",
              "    </tr>\n",
              "    <tr>\n",
              "      <th>2</th>\n",
              "      <td>20220125</td>\n",
              "      <td>20210214</td>\n",
              "      <td>3</td>\n",
              "      <td>FEMENINO</td>\n",
              "      <td>Criterio radiolÃƒÂ³gico</td>\n",
              "      <td>LIMA</td>\n",
              "      <td>LIMA</td>\n",
              "      <td>SAN JUAN DE MIRAFLORES</td>\n",
              "      <td>150133</td>\n",
              "      <td>24652408.0</td>\n",
              "    </tr>\n",
              "    <tr>\n",
              "      <th>3</th>\n",
              "      <td>20220125</td>\n",
              "      <td>20210722</td>\n",
              "      <td>5</td>\n",
              "      <td>MASCULINO</td>\n",
              "      <td>Criterio serolÃƒÂ³gico</td>\n",
              "      <td>JUNIN</td>\n",
              "      <td>HUANCAYO</td>\n",
              "      <td>CHILCA</td>\n",
              "      <td>120107</td>\n",
              "      <td>24652744.0</td>\n",
              "    </tr>\n",
              "    <tr>\n",
              "      <th>4</th>\n",
              "      <td>20220125</td>\n",
              "      <td>20200505</td>\n",
              "      <td>9</td>\n",
              "      <td>MASCULINO</td>\n",
              "      <td>Criterio SINADEF</td>\n",
              "      <td>LAMBAYEQUE</td>\n",
              "      <td>CHICLAYO</td>\n",
              "      <td>CHICLAYO</td>\n",
              "      <td>140101</td>\n",
              "      <td>24803428.0</td>\n",
              "    </tr>\n",
              "    <tr>\n",
              "      <th>...</th>\n",
              "      <td>...</td>\n",
              "      <td>...</td>\n",
              "      <td>...</td>\n",
              "      <td>...</td>\n",
              "      <td>...</td>\n",
              "      <td>...</td>\n",
              "      <td>...</td>\n",
              "      <td>...</td>\n",
              "      <td>...</td>\n",
              "      <td>...</td>\n",
              "    </tr>\n",
              "    <tr>\n",
              "      <th>201704</th>\n",
              "      <td>20220125</td>\n",
              "      <td>20210326</td>\n",
              "      <td>6</td>\n",
              "      <td>MASCULINO</td>\n",
              "      <td>Criterio nexo epidemiolÃƒÂ³gico</td>\n",
              "      <td>PUNO</td>\n",
              "      <td>CARABAYA</td>\n",
              "      <td>MACUSANI</td>\n",
              "      <td>210301</td>\n",
              "      <td>19241810.0</td>\n",
              "    </tr>\n",
              "    <tr>\n",
              "      <th>201705</th>\n",
              "      <td>20220125</td>\n",
              "      <td>20210704</td>\n",
              "      <td>5</td>\n",
              "      <td>MASCULINO</td>\n",
              "      <td>Criterio virolÃƒÂ³gico</td>\n",
              "      <td>AREQUIPA</td>\n",
              "      <td>CAYLLOMA</td>\n",
              "      <td>MAJES</td>\n",
              "      <td>40520</td>\n",
              "      <td>19270208.0</td>\n",
              "    </tr>\n",
              "    <tr>\n",
              "      <th>201706</th>\n",
              "      <td>20220125</td>\n",
              "      <td>20210530</td>\n",
              "      <td>8</td>\n",
              "      <td>MASCULINO</td>\n",
              "      <td>Criterio virolÃƒÂ³gico</td>\n",
              "      <td>APURIMAC</td>\n",
              "      <td>CHINCHEROS</td>\n",
              "      <td>CHINCHEROS</td>\n",
              "      <td>30601</td>\n",
              "      <td>19270226.0</td>\n",
              "    </tr>\n",
              "    <tr>\n",
              "      <th>201707</th>\n",
              "      <td>20220125</td>\n",
              "      <td>20210620</td>\n",
              "      <td>9</td>\n",
              "      <td>MASCULINO</td>\n",
              "      <td>Criterio virolÃƒÂ³gico</td>\n",
              "      <td>JUNIN</td>\n",
              "      <td>JAUJA</td>\n",
              "      <td>MOLINOS</td>\n",
              "      <td>120418</td>\n",
              "      <td>19270402.0</td>\n",
              "    </tr>\n",
              "    <tr>\n",
              "      <th>201708</th>\n",
              "      <td>20220125</td>\n",
              "      <td>20210314</td>\n",
              "      <td>5</td>\n",
              "      <td>MASCULINO</td>\n",
              "      <td>Criterio virolÃƒÂ³gico</td>\n",
              "      <td>LIMA</td>\n",
              "      <td>LIMA</td>\n",
              "      <td>SANTA ANITA</td>\n",
              "      <td>150137</td>\n",
              "      <td>19246482.0</td>\n",
              "    </tr>\n",
              "  </tbody>\n",
              "</table>\n",
              "<p>201318 rows × 10 columns</p>\n",
              "</div>\n",
              "      <button class=\"colab-df-convert\" onclick=\"convertToInteractive('df-51727a58-6c99-4d1a-8671-a76c09428b35')\"\n",
              "              title=\"Convert this dataframe to an interactive table.\"\n",
              "              style=\"display:none;\">\n",
              "        \n",
              "  <svg xmlns=\"http://www.w3.org/2000/svg\" height=\"24px\"viewBox=\"0 0 24 24\"\n",
              "       width=\"24px\">\n",
              "    <path d=\"M0 0h24v24H0V0z\" fill=\"none\"/>\n",
              "    <path d=\"M18.56 5.44l.94 2.06.94-2.06 2.06-.94-2.06-.94-.94-2.06-.94 2.06-2.06.94zm-11 1L8.5 8.5l.94-2.06 2.06-.94-2.06-.94L8.5 2.5l-.94 2.06-2.06.94zm10 10l.94 2.06.94-2.06 2.06-.94-2.06-.94-.94-2.06-.94 2.06-2.06.94z\"/><path d=\"M17.41 7.96l-1.37-1.37c-.4-.4-.92-.59-1.43-.59-.52 0-1.04.2-1.43.59L10.3 9.45l-7.72 7.72c-.78.78-.78 2.05 0 2.83L4 21.41c.39.39.9.59 1.41.59.51 0 1.02-.2 1.41-.59l7.78-7.78 2.81-2.81c.8-.78.8-2.07 0-2.86zM5.41 20L4 18.59l7.72-7.72 1.47 1.35L5.41 20z\"/>\n",
              "  </svg>\n",
              "      </button>\n",
              "      \n",
              "  <style>\n",
              "    .colab-df-container {\n",
              "      display:flex;\n",
              "      flex-wrap:wrap;\n",
              "      gap: 12px;\n",
              "    }\n",
              "\n",
              "    .colab-df-convert {\n",
              "      background-color: #E8F0FE;\n",
              "      border: none;\n",
              "      border-radius: 50%;\n",
              "      cursor: pointer;\n",
              "      display: none;\n",
              "      fill: #1967D2;\n",
              "      height: 32px;\n",
              "      padding: 0 0 0 0;\n",
              "      width: 32px;\n",
              "    }\n",
              "\n",
              "    .colab-df-convert:hover {\n",
              "      background-color: #E2EBFA;\n",
              "      box-shadow: 0px 1px 2px rgba(60, 64, 67, 0.3), 0px 1px 3px 1px rgba(60, 64, 67, 0.15);\n",
              "      fill: #174EA6;\n",
              "    }\n",
              "\n",
              "    [theme=dark] .colab-df-convert {\n",
              "      background-color: #3B4455;\n",
              "      fill: #D2E3FC;\n",
              "    }\n",
              "\n",
              "    [theme=dark] .colab-df-convert:hover {\n",
              "      background-color: #434B5C;\n",
              "      box-shadow: 0px 1px 3px 1px rgba(0, 0, 0, 0.15);\n",
              "      filter: drop-shadow(0px 1px 2px rgba(0, 0, 0, 0.3));\n",
              "      fill: #FFFFFF;\n",
              "    }\n",
              "  </style>\n",
              "\n",
              "      <script>\n",
              "        const buttonEl =\n",
              "          document.querySelector('#df-51727a58-6c99-4d1a-8671-a76c09428b35 button.colab-df-convert');\n",
              "        buttonEl.style.display =\n",
              "          google.colab.kernel.accessAllowed ? 'block' : 'none';\n",
              "\n",
              "        async function convertToInteractive(key) {\n",
              "          const element = document.querySelector('#df-51727a58-6c99-4d1a-8671-a76c09428b35');\n",
              "          const dataTable =\n",
              "            await google.colab.kernel.invokeFunction('convertToInteractive',\n",
              "                                                     [key], {});\n",
              "          if (!dataTable) return;\n",
              "\n",
              "          const docLinkHtml = 'Like what you see? Visit the ' +\n",
              "            '<a target=\"_blank\" href=https://colab.research.google.com/notebooks/data_table.ipynb>data table notebook</a>'\n",
              "            + ' to learn more about interactive tables.';\n",
              "          element.innerHTML = '';\n",
              "          dataTable['output_type'] = 'display_data';\n",
              "          await google.colab.output.renderOutput(dataTable, element);\n",
              "          const docLink = document.createElement('div');\n",
              "          docLink.innerHTML = docLinkHtml;\n",
              "          element.appendChild(docLink);\n",
              "        }\n",
              "      </script>\n",
              "    </div>\n",
              "  </div>\n",
              "  "
            ],
            "text/plain": [
              "        FECHA_CORTE  FECHA_FALLECIMIENTO  ...  UBIGEO        UUID\n",
              "0          20220125             20210607  ...  200601  24804325.0\n",
              "1          20220125             20210716  ...  200115  24652285.0\n",
              "2          20220125             20210214  ...  150133  24652408.0\n",
              "3          20220125             20210722  ...  120107  24652744.0\n",
              "4          20220125             20200505  ...  140101  24803428.0\n",
              "...             ...                  ...  ...     ...         ...\n",
              "201704     20220125             20210326  ...  210301  19241810.0\n",
              "201705     20220125             20210704  ...   40520  19270208.0\n",
              "201706     20220125             20210530  ...   30601  19270226.0\n",
              "201707     20220125             20210620  ...  120418  19270402.0\n",
              "201708     20220125             20210314  ...  150137  19246482.0\n",
              "\n",
              "[201318 rows x 10 columns]"
            ]
          },
          "metadata": {},
          "execution_count": 30
        }
      ]
    },
    {
      "cell_type": "markdown",
      "source": [
        "  Eliminamos los campos innecesarios para realizar el modelo de machine Learning "
      ],
      "metadata": {
        "id": "P0Ad6vc9ZYlh"
      }
    },
    {
      "cell_type": "code",
      "source": [
        "icfes_limpia = icfes_agrupada.drop(columns=['FECHA_CORTE','UUID'])\n",
        "icfes_limpia.shape"
      ],
      "metadata": {
        "colab": {
          "base_uri": "https://localhost:8080/"
        },
        "id": "gSWrpxgsZYXi",
        "outputId": "d35a48a4-324f-4c11-cae7-1db5e368fbdc"
      },
      "execution_count": null,
      "outputs": [
        {
          "output_type": "execute_result",
          "data": {
            "text/plain": [
              "(201318, 8)"
            ]
          },
          "metadata": {},
          "execution_count": 31
        }
      ]
    },
    {
      "cell_type": "code",
      "source": [
        "icfes_limpia.info()"
      ],
      "metadata": {
        "colab": {
          "base_uri": "https://localhost:8080/"
        },
        "id": "9DPhrZWIaG1C",
        "outputId": "8f4b6fb2-26a5-4eb6-fb91-03beb5f4712d"
      },
      "execution_count": null,
      "outputs": [
        {
          "output_type": "stream",
          "name": "stdout",
          "text": [
            "<class 'pandas.core.frame.DataFrame'>\n",
            "Int64Index: 201318 entries, 0 to 201708\n",
            "Data columns (total 8 columns):\n",
            " #   Column               Non-Null Count   Dtype   \n",
            "---  ------               --------------   -----   \n",
            " 0   FECHA_FALLECIMIENTO  201318 non-null  int64   \n",
            " 1   EDAD_DECLARADA       201237 non-null  category\n",
            " 2   SEXO                 201318 non-null  object  \n",
            " 3   CLASIFICACION_DEF    201318 non-null  object  \n",
            " 4   DEPARTAMENTO         201318 non-null  object  \n",
            " 5   PROVINCIA            201318 non-null  object  \n",
            " 6   DISTRITO             201318 non-null  object  \n",
            " 7   UBIGEO               201318 non-null  object  \n",
            "dtypes: category(1), int64(1), object(6)\n",
            "memory usage: 12.5+ MB\n"
          ]
        }
      ]
    },
    {
      "cell_type": "markdown",
      "source": [
        "CATEGORIZAMOS LOS CAMPOS DE TIPO STRING - OBJECT "
      ],
      "metadata": {
        "id": "t-FBc_4dYJ-e"
      }
    },
    {
      "cell_type": "code",
      "source": [
        "icfes_limpia.dtypes"
      ],
      "metadata": {
        "colab": {
          "base_uri": "https://localhost:8080/"
        },
        "id": "gQ7nFR1XYCwu",
        "outputId": "346d05d4-3c9f-4666-a42a-3c0b1a5693d6"
      },
      "execution_count": null,
      "outputs": [
        {
          "output_type": "execute_result",
          "data": {
            "text/plain": [
              "FECHA_FALLECIMIENTO       int64\n",
              "EDAD_DECLARADA         category\n",
              "SEXO                     object\n",
              "CLASIFICACION_DEF        object\n",
              "DEPARTAMENTO             object\n",
              "PROVINCIA                object\n",
              "DISTRITO                 object\n",
              "UBIGEO                   object\n",
              "dtype: object"
            ]
          },
          "metadata": {},
          "execution_count": 33
        }
      ]
    },
    {
      "cell_type": "code",
      "source": [
        "icfes_limpia['SEXO'] = pd.factorize(icfes_limpia['SEXO'])[0]\n",
        "icfes_limpia['CLASIFICACION_DEF'] = pd.factorize(icfes_limpia['CLASIFICACION_DEF'])[0]\n",
        "icfes_limpia['DEPARTAMENTO'] = pd.factorize(icfes_limpia['DEPARTAMENTO'])[0]\n",
        "icfes_limpia['PROVINCIA'] = pd.factorize(icfes_limpia['PROVINCIA'])[0]\n",
        "icfes_limpia['DISTRITO'] = pd.factorize(icfes_limpia['DISTRITO'])[0]\n",
        "icfes_limpia['UBIGEO'] = pd.factorize(icfes_limpia['UBIGEO'])[0]\n",
        "icfes_limpia['FECHA_FALLECIMIENTO'] = pd.factorize(icfes_limpia['FECHA_FALLECIMIENTO'])[0]\n",
        "icfes_limpia"
      ],
      "metadata": {
        "colab": {
          "base_uri": "https://localhost:8080/",
          "height": 423
        },
        "id": "vJIfQSzwYJyR",
        "outputId": "2dc7ab7f-3541-4a61-cec9-800924843a6a"
      },
      "execution_count": null,
      "outputs": [
        {
          "output_type": "execute_result",
          "data": {
            "text/html": [
              "\n",
              "  <div id=\"df-6367d084-02b2-4115-90c4-0d4fcd975acd\">\n",
              "    <div class=\"colab-df-container\">\n",
              "      <div>\n",
              "<style scoped>\n",
              "    .dataframe tbody tr th:only-of-type {\n",
              "        vertical-align: middle;\n",
              "    }\n",
              "\n",
              "    .dataframe tbody tr th {\n",
              "        vertical-align: top;\n",
              "    }\n",
              "\n",
              "    .dataframe thead th {\n",
              "        text-align: right;\n",
              "    }\n",
              "</style>\n",
              "<table border=\"1\" class=\"dataframe\">\n",
              "  <thead>\n",
              "    <tr style=\"text-align: right;\">\n",
              "      <th></th>\n",
              "      <th>FECHA_FALLECIMIENTO</th>\n",
              "      <th>EDAD_DECLARADA</th>\n",
              "      <th>SEXO</th>\n",
              "      <th>CLASIFICACION_DEF</th>\n",
              "      <th>DEPARTAMENTO</th>\n",
              "      <th>PROVINCIA</th>\n",
              "      <th>DISTRITO</th>\n",
              "      <th>UBIGEO</th>\n",
              "    </tr>\n",
              "  </thead>\n",
              "  <tbody>\n",
              "    <tr>\n",
              "      <th>0</th>\n",
              "      <td>0</td>\n",
              "      <td>4</td>\n",
              "      <td>0</td>\n",
              "      <td>0</td>\n",
              "      <td>0</td>\n",
              "      <td>0</td>\n",
              "      <td>0</td>\n",
              "      <td>0</td>\n",
              "    </tr>\n",
              "    <tr>\n",
              "      <th>1</th>\n",
              "      <td>1</td>\n",
              "      <td>10</td>\n",
              "      <td>1</td>\n",
              "      <td>0</td>\n",
              "      <td>0</td>\n",
              "      <td>1</td>\n",
              "      <td>1</td>\n",
              "      <td>1</td>\n",
              "    </tr>\n",
              "    <tr>\n",
              "      <th>2</th>\n",
              "      <td>2</td>\n",
              "      <td>3</td>\n",
              "      <td>1</td>\n",
              "      <td>1</td>\n",
              "      <td>1</td>\n",
              "      <td>2</td>\n",
              "      <td>2</td>\n",
              "      <td>2</td>\n",
              "    </tr>\n",
              "    <tr>\n",
              "      <th>3</th>\n",
              "      <td>3</td>\n",
              "      <td>5</td>\n",
              "      <td>0</td>\n",
              "      <td>2</td>\n",
              "      <td>2</td>\n",
              "      <td>3</td>\n",
              "      <td>3</td>\n",
              "      <td>3</td>\n",
              "    </tr>\n",
              "    <tr>\n",
              "      <th>4</th>\n",
              "      <td>4</td>\n",
              "      <td>9</td>\n",
              "      <td>0</td>\n",
              "      <td>0</td>\n",
              "      <td>3</td>\n",
              "      <td>4</td>\n",
              "      <td>4</td>\n",
              "      <td>4</td>\n",
              "    </tr>\n",
              "    <tr>\n",
              "      <th>...</th>\n",
              "      <td>...</td>\n",
              "      <td>...</td>\n",
              "      <td>...</td>\n",
              "      <td>...</td>\n",
              "      <td>...</td>\n",
              "      <td>...</td>\n",
              "      <td>...</td>\n",
              "      <td>...</td>\n",
              "    </tr>\n",
              "    <tr>\n",
              "      <th>201704</th>\n",
              "      <td>115</td>\n",
              "      <td>6</td>\n",
              "      <td>0</td>\n",
              "      <td>5</td>\n",
              "      <td>4</td>\n",
              "      <td>5</td>\n",
              "      <td>5</td>\n",
              "      <td>5</td>\n",
              "    </tr>\n",
              "    <tr>\n",
              "      <th>201705</th>\n",
              "      <td>63</td>\n",
              "      <td>5</td>\n",
              "      <td>0</td>\n",
              "      <td>4</td>\n",
              "      <td>8</td>\n",
              "      <td>27</td>\n",
              "      <td>53</td>\n",
              "      <td>56</td>\n",
              "    </tr>\n",
              "    <tr>\n",
              "      <th>201706</th>\n",
              "      <td>71</td>\n",
              "      <td>8</td>\n",
              "      <td>0</td>\n",
              "      <td>4</td>\n",
              "      <td>16</td>\n",
              "      <td>36</td>\n",
              "      <td>673</td>\n",
              "      <td>714</td>\n",
              "    </tr>\n",
              "    <tr>\n",
              "      <th>201707</th>\n",
              "      <td>49</td>\n",
              "      <td>9</td>\n",
              "      <td>0</td>\n",
              "      <td>4</td>\n",
              "      <td>2</td>\n",
              "      <td>40</td>\n",
              "      <td>893</td>\n",
              "      <td>950</td>\n",
              "    </tr>\n",
              "    <tr>\n",
              "      <th>201708</th>\n",
              "      <td>160</td>\n",
              "      <td>5</td>\n",
              "      <td>0</td>\n",
              "      <td>4</td>\n",
              "      <td>1</td>\n",
              "      <td>2</td>\n",
              "      <td>52</td>\n",
              "      <td>54</td>\n",
              "    </tr>\n",
              "  </tbody>\n",
              "</table>\n",
              "<p>201318 rows × 8 columns</p>\n",
              "</div>\n",
              "      <button class=\"colab-df-convert\" onclick=\"convertToInteractive('df-6367d084-02b2-4115-90c4-0d4fcd975acd')\"\n",
              "              title=\"Convert this dataframe to an interactive table.\"\n",
              "              style=\"display:none;\">\n",
              "        \n",
              "  <svg xmlns=\"http://www.w3.org/2000/svg\" height=\"24px\"viewBox=\"0 0 24 24\"\n",
              "       width=\"24px\">\n",
              "    <path d=\"M0 0h24v24H0V0z\" fill=\"none\"/>\n",
              "    <path d=\"M18.56 5.44l.94 2.06.94-2.06 2.06-.94-2.06-.94-.94-2.06-.94 2.06-2.06.94zm-11 1L8.5 8.5l.94-2.06 2.06-.94-2.06-.94L8.5 2.5l-.94 2.06-2.06.94zm10 10l.94 2.06.94-2.06 2.06-.94-2.06-.94-.94-2.06-.94 2.06-2.06.94z\"/><path d=\"M17.41 7.96l-1.37-1.37c-.4-.4-.92-.59-1.43-.59-.52 0-1.04.2-1.43.59L10.3 9.45l-7.72 7.72c-.78.78-.78 2.05 0 2.83L4 21.41c.39.39.9.59 1.41.59.51 0 1.02-.2 1.41-.59l7.78-7.78 2.81-2.81c.8-.78.8-2.07 0-2.86zM5.41 20L4 18.59l7.72-7.72 1.47 1.35L5.41 20z\"/>\n",
              "  </svg>\n",
              "      </button>\n",
              "      \n",
              "  <style>\n",
              "    .colab-df-container {\n",
              "      display:flex;\n",
              "      flex-wrap:wrap;\n",
              "      gap: 12px;\n",
              "    }\n",
              "\n",
              "    .colab-df-convert {\n",
              "      background-color: #E8F0FE;\n",
              "      border: none;\n",
              "      border-radius: 50%;\n",
              "      cursor: pointer;\n",
              "      display: none;\n",
              "      fill: #1967D2;\n",
              "      height: 32px;\n",
              "      padding: 0 0 0 0;\n",
              "      width: 32px;\n",
              "    }\n",
              "\n",
              "    .colab-df-convert:hover {\n",
              "      background-color: #E2EBFA;\n",
              "      box-shadow: 0px 1px 2px rgba(60, 64, 67, 0.3), 0px 1px 3px 1px rgba(60, 64, 67, 0.15);\n",
              "      fill: #174EA6;\n",
              "    }\n",
              "\n",
              "    [theme=dark] .colab-df-convert {\n",
              "      background-color: #3B4455;\n",
              "      fill: #D2E3FC;\n",
              "    }\n",
              "\n",
              "    [theme=dark] .colab-df-convert:hover {\n",
              "      background-color: #434B5C;\n",
              "      box-shadow: 0px 1px 3px 1px rgba(0, 0, 0, 0.15);\n",
              "      filter: drop-shadow(0px 1px 2px rgba(0, 0, 0, 0.3));\n",
              "      fill: #FFFFFF;\n",
              "    }\n",
              "  </style>\n",
              "\n",
              "      <script>\n",
              "        const buttonEl =\n",
              "          document.querySelector('#df-6367d084-02b2-4115-90c4-0d4fcd975acd button.colab-df-convert');\n",
              "        buttonEl.style.display =\n",
              "          google.colab.kernel.accessAllowed ? 'block' : 'none';\n",
              "\n",
              "        async function convertToInteractive(key) {\n",
              "          const element = document.querySelector('#df-6367d084-02b2-4115-90c4-0d4fcd975acd');\n",
              "          const dataTable =\n",
              "            await google.colab.kernel.invokeFunction('convertToInteractive',\n",
              "                                                     [key], {});\n",
              "          if (!dataTable) return;\n",
              "\n",
              "          const docLinkHtml = 'Like what you see? Visit the ' +\n",
              "            '<a target=\"_blank\" href=https://colab.research.google.com/notebooks/data_table.ipynb>data table notebook</a>'\n",
              "            + ' to learn more about interactive tables.';\n",
              "          element.innerHTML = '';\n",
              "          dataTable['output_type'] = 'display_data';\n",
              "          await google.colab.output.renderOutput(dataTable, element);\n",
              "          const docLink = document.createElement('div');\n",
              "          docLink.innerHTML = docLinkHtml;\n",
              "          element.appendChild(docLink);\n",
              "        }\n",
              "      </script>\n",
              "    </div>\n",
              "  </div>\n",
              "  "
            ],
            "text/plain": [
              "        FECHA_FALLECIMIENTO EDAD_DECLARADA  SEXO  ...  PROVINCIA  DISTRITO  UBIGEO\n",
              "0                         0              4     0  ...          0         0       0\n",
              "1                         1             10     1  ...          1         1       1\n",
              "2                         2              3     1  ...          2         2       2\n",
              "3                         3              5     0  ...          3         3       3\n",
              "4                         4              9     0  ...          4         4       4\n",
              "...                     ...            ...   ...  ...        ...       ...     ...\n",
              "201704                  115              6     0  ...          5         5       5\n",
              "201705                   63              5     0  ...         27        53      56\n",
              "201706                   71              8     0  ...         36       673     714\n",
              "201707                   49              9     0  ...         40       893     950\n",
              "201708                  160              5     0  ...          2        52      54\n",
              "\n",
              "[201318 rows x 8 columns]"
            ]
          },
          "metadata": {},
          "execution_count": 34
        }
      ]
    },
    {
      "cell_type": "code",
      "source": [
        "icfes_limpia.dtypes"
      ],
      "metadata": {
        "colab": {
          "base_uri": "https://localhost:8080/"
        },
        "id": "GiofPhDHdsWu",
        "outputId": "55bebf86-98b3-416c-a1c4-70aa369ca2d7"
      },
      "execution_count": null,
      "outputs": [
        {
          "output_type": "execute_result",
          "data": {
            "text/plain": [
              "FECHA_FALLECIMIENTO       int64\n",
              "EDAD_DECLARADA         category\n",
              "SEXO                      int64\n",
              "CLASIFICACION_DEF         int64\n",
              "DEPARTAMENTO              int64\n",
              "PROVINCIA                 int64\n",
              "DISTRITO                  int64\n",
              "UBIGEO                    int64\n",
              "dtype: object"
            ]
          },
          "metadata": {},
          "execution_count": 35
        }
      ]
    },
    {
      "cell_type": "code",
      "source": [
        "icfes_limpia.isna().sum()"
      ],
      "metadata": {
        "colab": {
          "base_uri": "https://localhost:8080/"
        },
        "id": "7b84Ffgbd3SG",
        "outputId": "f777ce50-e89e-4802-fe3e-3bbdf4e6f5c8"
      },
      "execution_count": null,
      "outputs": [
        {
          "output_type": "execute_result",
          "data": {
            "text/plain": [
              "FECHA_FALLECIMIENTO     0\n",
              "EDAD_DECLARADA         81\n",
              "SEXO                    0\n",
              "CLASIFICACION_DEF       0\n",
              "DEPARTAMENTO            0\n",
              "PROVINCIA               0\n",
              "DISTRITO                0\n",
              "UBIGEO                  0\n",
              "dtype: int64"
            ]
          },
          "metadata": {},
          "execution_count": 36
        }
      ]
    },
    {
      "cell_type": "code",
      "source": [
        "icfes_limpia = icfes_limpia[icfes_limpia['EDAD_DECLARADA'].notna()]"
      ],
      "metadata": {
        "id": "sDbknF5ufRZi"
      },
      "execution_count": null,
      "outputs": []
    },
    {
      "cell_type": "code",
      "source": [
        "icfes_limpia.isna().sum()"
      ],
      "metadata": {
        "colab": {
          "base_uri": "https://localhost:8080/"
        },
        "id": "1e2ymAnrfpsL",
        "outputId": "bfd71a13-cb0a-4939-8dee-83ec35f44cab"
      },
      "execution_count": null,
      "outputs": [
        {
          "output_type": "execute_result",
          "data": {
            "text/plain": [
              "FECHA_FALLECIMIENTO    0\n",
              "EDAD_DECLARADA         0\n",
              "SEXO                   0\n",
              "CLASIFICACION_DEF      0\n",
              "DEPARTAMENTO           0\n",
              "PROVINCIA              0\n",
              "DISTRITO               0\n",
              "UBIGEO                 0\n",
              "dtype: int64"
            ]
          },
          "metadata": {},
          "execution_count": 38
        }
      ]
    },
    {
      "cell_type": "markdown",
      "source": [
        "DEFINIMOS LA VARIABLE OBJETIVO Y PREDICTORA "
      ],
      "metadata": {
        "id": "zanBVoS-a2Rf"
      }
    },
    {
      "cell_type": "code",
      "source": [
        "X = icfes_limpia.drop(columns= 'CLASIFICACION_DEF')\n",
        "Y = icfes_limpia[['CLASIFICACION_DEF']]\n",
        "X"
      ],
      "metadata": {
        "colab": {
          "base_uri": "https://localhost:8080/",
          "height": 423
        },
        "id": "bYxhhxLgbRJ4",
        "outputId": "fc55bf83-caa6-4455-f7d3-d89e6cf492b8"
      },
      "execution_count": null,
      "outputs": [
        {
          "output_type": "execute_result",
          "data": {
            "text/html": [
              "\n",
              "  <div id=\"df-5755e48e-624e-407e-9415-0987b88d0743\">\n",
              "    <div class=\"colab-df-container\">\n",
              "      <div>\n",
              "<style scoped>\n",
              "    .dataframe tbody tr th:only-of-type {\n",
              "        vertical-align: middle;\n",
              "    }\n",
              "\n",
              "    .dataframe tbody tr th {\n",
              "        vertical-align: top;\n",
              "    }\n",
              "\n",
              "    .dataframe thead th {\n",
              "        text-align: right;\n",
              "    }\n",
              "</style>\n",
              "<table border=\"1\" class=\"dataframe\">\n",
              "  <thead>\n",
              "    <tr style=\"text-align: right;\">\n",
              "      <th></th>\n",
              "      <th>FECHA_FALLECIMIENTO</th>\n",
              "      <th>EDAD_DECLARADA</th>\n",
              "      <th>SEXO</th>\n",
              "      <th>DEPARTAMENTO</th>\n",
              "      <th>PROVINCIA</th>\n",
              "      <th>DISTRITO</th>\n",
              "      <th>UBIGEO</th>\n",
              "    </tr>\n",
              "  </thead>\n",
              "  <tbody>\n",
              "    <tr>\n",
              "      <th>0</th>\n",
              "      <td>0</td>\n",
              "      <td>4</td>\n",
              "      <td>0</td>\n",
              "      <td>0</td>\n",
              "      <td>0</td>\n",
              "      <td>0</td>\n",
              "      <td>0</td>\n",
              "    </tr>\n",
              "    <tr>\n",
              "      <th>1</th>\n",
              "      <td>1</td>\n",
              "      <td>10</td>\n",
              "      <td>1</td>\n",
              "      <td>0</td>\n",
              "      <td>1</td>\n",
              "      <td>1</td>\n",
              "      <td>1</td>\n",
              "    </tr>\n",
              "    <tr>\n",
              "      <th>2</th>\n",
              "      <td>2</td>\n",
              "      <td>3</td>\n",
              "      <td>1</td>\n",
              "      <td>1</td>\n",
              "      <td>2</td>\n",
              "      <td>2</td>\n",
              "      <td>2</td>\n",
              "    </tr>\n",
              "    <tr>\n",
              "      <th>3</th>\n",
              "      <td>3</td>\n",
              "      <td>5</td>\n",
              "      <td>0</td>\n",
              "      <td>2</td>\n",
              "      <td>3</td>\n",
              "      <td>3</td>\n",
              "      <td>3</td>\n",
              "    </tr>\n",
              "    <tr>\n",
              "      <th>4</th>\n",
              "      <td>4</td>\n",
              "      <td>9</td>\n",
              "      <td>0</td>\n",
              "      <td>3</td>\n",
              "      <td>4</td>\n",
              "      <td>4</td>\n",
              "      <td>4</td>\n",
              "    </tr>\n",
              "    <tr>\n",
              "      <th>...</th>\n",
              "      <td>...</td>\n",
              "      <td>...</td>\n",
              "      <td>...</td>\n",
              "      <td>...</td>\n",
              "      <td>...</td>\n",
              "      <td>...</td>\n",
              "      <td>...</td>\n",
              "    </tr>\n",
              "    <tr>\n",
              "      <th>201704</th>\n",
              "      <td>115</td>\n",
              "      <td>6</td>\n",
              "      <td>0</td>\n",
              "      <td>4</td>\n",
              "      <td>5</td>\n",
              "      <td>5</td>\n",
              "      <td>5</td>\n",
              "    </tr>\n",
              "    <tr>\n",
              "      <th>201705</th>\n",
              "      <td>63</td>\n",
              "      <td>5</td>\n",
              "      <td>0</td>\n",
              "      <td>8</td>\n",
              "      <td>27</td>\n",
              "      <td>53</td>\n",
              "      <td>56</td>\n",
              "    </tr>\n",
              "    <tr>\n",
              "      <th>201706</th>\n",
              "      <td>71</td>\n",
              "      <td>8</td>\n",
              "      <td>0</td>\n",
              "      <td>16</td>\n",
              "      <td>36</td>\n",
              "      <td>673</td>\n",
              "      <td>714</td>\n",
              "    </tr>\n",
              "    <tr>\n",
              "      <th>201707</th>\n",
              "      <td>49</td>\n",
              "      <td>9</td>\n",
              "      <td>0</td>\n",
              "      <td>2</td>\n",
              "      <td>40</td>\n",
              "      <td>893</td>\n",
              "      <td>950</td>\n",
              "    </tr>\n",
              "    <tr>\n",
              "      <th>201708</th>\n",
              "      <td>160</td>\n",
              "      <td>5</td>\n",
              "      <td>0</td>\n",
              "      <td>1</td>\n",
              "      <td>2</td>\n",
              "      <td>52</td>\n",
              "      <td>54</td>\n",
              "    </tr>\n",
              "  </tbody>\n",
              "</table>\n",
              "<p>201237 rows × 7 columns</p>\n",
              "</div>\n",
              "      <button class=\"colab-df-convert\" onclick=\"convertToInteractive('df-5755e48e-624e-407e-9415-0987b88d0743')\"\n",
              "              title=\"Convert this dataframe to an interactive table.\"\n",
              "              style=\"display:none;\">\n",
              "        \n",
              "  <svg xmlns=\"http://www.w3.org/2000/svg\" height=\"24px\"viewBox=\"0 0 24 24\"\n",
              "       width=\"24px\">\n",
              "    <path d=\"M0 0h24v24H0V0z\" fill=\"none\"/>\n",
              "    <path d=\"M18.56 5.44l.94 2.06.94-2.06 2.06-.94-2.06-.94-.94-2.06-.94 2.06-2.06.94zm-11 1L8.5 8.5l.94-2.06 2.06-.94-2.06-.94L8.5 2.5l-.94 2.06-2.06.94zm10 10l.94 2.06.94-2.06 2.06-.94-2.06-.94-.94-2.06-.94 2.06-2.06.94z\"/><path d=\"M17.41 7.96l-1.37-1.37c-.4-.4-.92-.59-1.43-.59-.52 0-1.04.2-1.43.59L10.3 9.45l-7.72 7.72c-.78.78-.78 2.05 0 2.83L4 21.41c.39.39.9.59 1.41.59.51 0 1.02-.2 1.41-.59l7.78-7.78 2.81-2.81c.8-.78.8-2.07 0-2.86zM5.41 20L4 18.59l7.72-7.72 1.47 1.35L5.41 20z\"/>\n",
              "  </svg>\n",
              "      </button>\n",
              "      \n",
              "  <style>\n",
              "    .colab-df-container {\n",
              "      display:flex;\n",
              "      flex-wrap:wrap;\n",
              "      gap: 12px;\n",
              "    }\n",
              "\n",
              "    .colab-df-convert {\n",
              "      background-color: #E8F0FE;\n",
              "      border: none;\n",
              "      border-radius: 50%;\n",
              "      cursor: pointer;\n",
              "      display: none;\n",
              "      fill: #1967D2;\n",
              "      height: 32px;\n",
              "      padding: 0 0 0 0;\n",
              "      width: 32px;\n",
              "    }\n",
              "\n",
              "    .colab-df-convert:hover {\n",
              "      background-color: #E2EBFA;\n",
              "      box-shadow: 0px 1px 2px rgba(60, 64, 67, 0.3), 0px 1px 3px 1px rgba(60, 64, 67, 0.15);\n",
              "      fill: #174EA6;\n",
              "    }\n",
              "\n",
              "    [theme=dark] .colab-df-convert {\n",
              "      background-color: #3B4455;\n",
              "      fill: #D2E3FC;\n",
              "    }\n",
              "\n",
              "    [theme=dark] .colab-df-convert:hover {\n",
              "      background-color: #434B5C;\n",
              "      box-shadow: 0px 1px 3px 1px rgba(0, 0, 0, 0.15);\n",
              "      filter: drop-shadow(0px 1px 2px rgba(0, 0, 0, 0.3));\n",
              "      fill: #FFFFFF;\n",
              "    }\n",
              "  </style>\n",
              "\n",
              "      <script>\n",
              "        const buttonEl =\n",
              "          document.querySelector('#df-5755e48e-624e-407e-9415-0987b88d0743 button.colab-df-convert');\n",
              "        buttonEl.style.display =\n",
              "          google.colab.kernel.accessAllowed ? 'block' : 'none';\n",
              "\n",
              "        async function convertToInteractive(key) {\n",
              "          const element = document.querySelector('#df-5755e48e-624e-407e-9415-0987b88d0743');\n",
              "          const dataTable =\n",
              "            await google.colab.kernel.invokeFunction('convertToInteractive',\n",
              "                                                     [key], {});\n",
              "          if (!dataTable) return;\n",
              "\n",
              "          const docLinkHtml = 'Like what you see? Visit the ' +\n",
              "            '<a target=\"_blank\" href=https://colab.research.google.com/notebooks/data_table.ipynb>data table notebook</a>'\n",
              "            + ' to learn more about interactive tables.';\n",
              "          element.innerHTML = '';\n",
              "          dataTable['output_type'] = 'display_data';\n",
              "          await google.colab.output.renderOutput(dataTable, element);\n",
              "          const docLink = document.createElement('div');\n",
              "          docLink.innerHTML = docLinkHtml;\n",
              "          element.appendChild(docLink);\n",
              "        }\n",
              "      </script>\n",
              "    </div>\n",
              "  </div>\n",
              "  "
            ],
            "text/plain": [
              "        FECHA_FALLECIMIENTO EDAD_DECLARADA  SEXO  ...  PROVINCIA  DISTRITO  UBIGEO\n",
              "0                         0              4     0  ...          0         0       0\n",
              "1                         1             10     1  ...          1         1       1\n",
              "2                         2              3     1  ...          2         2       2\n",
              "3                         3              5     0  ...          3         3       3\n",
              "4                         4              9     0  ...          4         4       4\n",
              "...                     ...            ...   ...  ...        ...       ...     ...\n",
              "201704                  115              6     0  ...          5         5       5\n",
              "201705                   63              5     0  ...         27        53      56\n",
              "201706                   71              8     0  ...         36       673     714\n",
              "201707                   49              9     0  ...         40       893     950\n",
              "201708                  160              5     0  ...          2        52      54\n",
              "\n",
              "[201237 rows x 7 columns]"
            ]
          },
          "metadata": {},
          "execution_count": 39
        }
      ]
    },
    {
      "cell_type": "markdown",
      "source": [
        "ENTRENAMIENTO Y TEST "
      ],
      "metadata": {
        "id": "M0OQhEiRb-Ep"
      }
    },
    {
      "cell_type": "code",
      "source": [
        "# Importamos train_test_split\n",
        "from sklearn.model_selection import train_test_split\n",
        "x_train,x_test,y_train,y_test = train_test_split(X,Y,test_size=0.3,shuffle = False)\n",
        "\n",
        "# Con test_size indicamos que el 30% de datos vallen al test y el resto al entrenamiento\n",
        "y_test "
      ],
      "metadata": {
        "colab": {
          "base_uri": "https://localhost:8080/",
          "height": 423
        },
        "id": "wsRb4fS8cBur",
        "outputId": "0c8ab19b-0d5e-4c72-89be-f8e10efec84b"
      },
      "execution_count": null,
      "outputs": [
        {
          "output_type": "execute_result",
          "data": {
            "text/html": [
              "\n",
              "  <div id=\"df-b3430a50-f3cd-4fa0-9fce-be3a638a0a44\">\n",
              "    <div class=\"colab-df-container\">\n",
              "      <div>\n",
              "<style scoped>\n",
              "    .dataframe tbody tr th:only-of-type {\n",
              "        vertical-align: middle;\n",
              "    }\n",
              "\n",
              "    .dataframe tbody tr th {\n",
              "        vertical-align: top;\n",
              "    }\n",
              "\n",
              "    .dataframe thead th {\n",
              "        text-align: right;\n",
              "    }\n",
              "</style>\n",
              "<table border=\"1\" class=\"dataframe\">\n",
              "  <thead>\n",
              "    <tr style=\"text-align: right;\">\n",
              "      <th></th>\n",
              "      <th>CLASIFICACION_DEF</th>\n",
              "    </tr>\n",
              "  </thead>\n",
              "  <tbody>\n",
              "    <tr>\n",
              "      <th>140942</th>\n",
              "      <td>2</td>\n",
              "    </tr>\n",
              "    <tr>\n",
              "      <th>140943</th>\n",
              "      <td>4</td>\n",
              "    </tr>\n",
              "    <tr>\n",
              "      <th>140944</th>\n",
              "      <td>0</td>\n",
              "    </tr>\n",
              "    <tr>\n",
              "      <th>140945</th>\n",
              "      <td>0</td>\n",
              "    </tr>\n",
              "    <tr>\n",
              "      <th>140946</th>\n",
              "      <td>0</td>\n",
              "    </tr>\n",
              "    <tr>\n",
              "      <th>...</th>\n",
              "      <td>...</td>\n",
              "    </tr>\n",
              "    <tr>\n",
              "      <th>201704</th>\n",
              "      <td>5</td>\n",
              "    </tr>\n",
              "    <tr>\n",
              "      <th>201705</th>\n",
              "      <td>4</td>\n",
              "    </tr>\n",
              "    <tr>\n",
              "      <th>201706</th>\n",
              "      <td>4</td>\n",
              "    </tr>\n",
              "    <tr>\n",
              "      <th>201707</th>\n",
              "      <td>4</td>\n",
              "    </tr>\n",
              "    <tr>\n",
              "      <th>201708</th>\n",
              "      <td>4</td>\n",
              "    </tr>\n",
              "  </tbody>\n",
              "</table>\n",
              "<p>60372 rows × 1 columns</p>\n",
              "</div>\n",
              "      <button class=\"colab-df-convert\" onclick=\"convertToInteractive('df-b3430a50-f3cd-4fa0-9fce-be3a638a0a44')\"\n",
              "              title=\"Convert this dataframe to an interactive table.\"\n",
              "              style=\"display:none;\">\n",
              "        \n",
              "  <svg xmlns=\"http://www.w3.org/2000/svg\" height=\"24px\"viewBox=\"0 0 24 24\"\n",
              "       width=\"24px\">\n",
              "    <path d=\"M0 0h24v24H0V0z\" fill=\"none\"/>\n",
              "    <path d=\"M18.56 5.44l.94 2.06.94-2.06 2.06-.94-2.06-.94-.94-2.06-.94 2.06-2.06.94zm-11 1L8.5 8.5l.94-2.06 2.06-.94-2.06-.94L8.5 2.5l-.94 2.06-2.06.94zm10 10l.94 2.06.94-2.06 2.06-.94-2.06-.94-.94-2.06-.94 2.06-2.06.94z\"/><path d=\"M17.41 7.96l-1.37-1.37c-.4-.4-.92-.59-1.43-.59-.52 0-1.04.2-1.43.59L10.3 9.45l-7.72 7.72c-.78.78-.78 2.05 0 2.83L4 21.41c.39.39.9.59 1.41.59.51 0 1.02-.2 1.41-.59l7.78-7.78 2.81-2.81c.8-.78.8-2.07 0-2.86zM5.41 20L4 18.59l7.72-7.72 1.47 1.35L5.41 20z\"/>\n",
              "  </svg>\n",
              "      </button>\n",
              "      \n",
              "  <style>\n",
              "    .colab-df-container {\n",
              "      display:flex;\n",
              "      flex-wrap:wrap;\n",
              "      gap: 12px;\n",
              "    }\n",
              "\n",
              "    .colab-df-convert {\n",
              "      background-color: #E8F0FE;\n",
              "      border: none;\n",
              "      border-radius: 50%;\n",
              "      cursor: pointer;\n",
              "      display: none;\n",
              "      fill: #1967D2;\n",
              "      height: 32px;\n",
              "      padding: 0 0 0 0;\n",
              "      width: 32px;\n",
              "    }\n",
              "\n",
              "    .colab-df-convert:hover {\n",
              "      background-color: #E2EBFA;\n",
              "      box-shadow: 0px 1px 2px rgba(60, 64, 67, 0.3), 0px 1px 3px 1px rgba(60, 64, 67, 0.15);\n",
              "      fill: #174EA6;\n",
              "    }\n",
              "\n",
              "    [theme=dark] .colab-df-convert {\n",
              "      background-color: #3B4455;\n",
              "      fill: #D2E3FC;\n",
              "    }\n",
              "\n",
              "    [theme=dark] .colab-df-convert:hover {\n",
              "      background-color: #434B5C;\n",
              "      box-shadow: 0px 1px 3px 1px rgba(0, 0, 0, 0.15);\n",
              "      filter: drop-shadow(0px 1px 2px rgba(0, 0, 0, 0.3));\n",
              "      fill: #FFFFFF;\n",
              "    }\n",
              "  </style>\n",
              "\n",
              "      <script>\n",
              "        const buttonEl =\n",
              "          document.querySelector('#df-b3430a50-f3cd-4fa0-9fce-be3a638a0a44 button.colab-df-convert');\n",
              "        buttonEl.style.display =\n",
              "          google.colab.kernel.accessAllowed ? 'block' : 'none';\n",
              "\n",
              "        async function convertToInteractive(key) {\n",
              "          const element = document.querySelector('#df-b3430a50-f3cd-4fa0-9fce-be3a638a0a44');\n",
              "          const dataTable =\n",
              "            await google.colab.kernel.invokeFunction('convertToInteractive',\n",
              "                                                     [key], {});\n",
              "          if (!dataTable) return;\n",
              "\n",
              "          const docLinkHtml = 'Like what you see? Visit the ' +\n",
              "            '<a target=\"_blank\" href=https://colab.research.google.com/notebooks/data_table.ipynb>data table notebook</a>'\n",
              "            + ' to learn more about interactive tables.';\n",
              "          element.innerHTML = '';\n",
              "          dataTable['output_type'] = 'display_data';\n",
              "          await google.colab.output.renderOutput(dataTable, element);\n",
              "          const docLink = document.createElement('div');\n",
              "          docLink.innerHTML = docLinkHtml;\n",
              "          element.appendChild(docLink);\n",
              "        }\n",
              "      </script>\n",
              "    </div>\n",
              "  </div>\n",
              "  "
            ],
            "text/plain": [
              "        CLASIFICACION_DEF\n",
              "140942                  2\n",
              "140943                  4\n",
              "140944                  0\n",
              "140945                  0\n",
              "140946                  0\n",
              "...                   ...\n",
              "201704                  5\n",
              "201705                  4\n",
              "201706                  4\n",
              "201707                  4\n",
              "201708                  4\n",
              "\n",
              "[60372 rows x 1 columns]"
            ]
          },
          "metadata": {},
          "execution_count": 40
        }
      ]
    },
    {
      "cell_type": "markdown",
      "source": [
        "Metodos que miden el rendimiento de un algoritmo de Machine Learning "
      ],
      "metadata": {
        "id": "dG4sXJojcLsz"
      }
    },
    {
      "cell_type": "code",
      "source": [
        "def efficiency(y_pred,y_pred_proba,y_test,aux=True):\n",
        "    \n",
        "    # Realizamos la matriz de confusion con la librería \"metrics\"\n",
        "    \n",
        "    from sklearn.metrics import confusion_matrix\n",
        "    from sklearn.metrics import plot_confusion_matrix\n",
        "    print(\"La matriz de confusion es: \\n\"+str(confusion_matrix(y_test,y_pred)))\n",
        "    \n",
        "    # Implementar clasification report\n",
        "    \n",
        "    from sklearn.metrics import classification_report\n",
        "    \n",
        "    print(\"El clasification report es: \\n\",end=' '+str(classification_report(y_test,y_pred)))\n"
      ],
      "metadata": {
        "id": "4crwmxYhcUZ0"
      },
      "execution_count": null,
      "outputs": []
    },
    {
      "cell_type": "markdown",
      "source": [
        "MODELAMIENTO"
      ],
      "metadata": {
        "id": "ZizZYeR8cgta"
      }
    },
    {
      "cell_type": "code",
      "source": [
        "print(\" Logistic Regression \")\n",
        "from sklearn.linear_model import LogisticRegression\n",
        "logreg = LogisticRegression(solver='lbfgs')\n",
        "logreg.fit(x_train, y_train)\n",
        "\n",
        "print('El puntaje de eficiencia que tuvo el algoritmo por score es de: ' + str(round(logreg.score(x_test, y_test),5)))\n",
        "\n",
        "y_predic_logreg = logreg.predict(x_test)\n",
        "y_predic_logreg_proba = logreg.predict_proba(x_test)\n",
        "y_predic_logreg_proba = y_predic_logreg_proba[:,1]\n",
        "efficiency(y_predic_logreg,y_predic_logreg_proba,y_test) "
      ],
      "metadata": {
        "colab": {
          "base_uri": "https://localhost:8080/"
        },
        "id": "my8gZza_cY16",
        "outputId": "689a1ffb-774d-4657-9c46-e409b4a184fd"
      },
      "execution_count": null,
      "outputs": [
        {
          "output_type": "stream",
          "name": "stdout",
          "text": [
            " Logistic Regression \n"
          ]
        },
        {
          "output_type": "stream",
          "name": "stderr",
          "text": [
            "/usr/local/lib/python3.7/dist-packages/sklearn/utils/validation.py:993: DataConversionWarning: A column-vector y was passed when a 1d array was expected. Please change the shape of y to (n_samples, ), for example using ravel().\n",
            "  y = column_or_1d(y, warn=True)\n",
            "/usr/local/lib/python3.7/dist-packages/sklearn/linear_model/_logistic.py:818: ConvergenceWarning: lbfgs failed to converge (status=1):\n",
            "STOP: TOTAL NO. of ITERATIONS REACHED LIMIT.\n",
            "\n",
            "Increase the number of iterations (max_iter) or scale the data as shown in:\n",
            "    https://scikit-learn.org/stable/modules/preprocessing.html\n",
            "Please also refer to the documentation for alternative solver options:\n",
            "    https://scikit-learn.org/stable/modules/linear_model.html#logistic-regression\n",
            "  extra_warning_msg=_LOGISTIC_SOLVER_CONVERGENCE_MSG,\n",
            "/usr/local/lib/python3.7/dist-packages/sklearn/base.py:566: FutureWarning: Arrays of bytes/strings is being converted to decimal numbers if dtype='numeric'. This behavior is deprecated in 0.24 and will be removed in 1.1 (renaming of 0.26). Please convert your data to numeric values explicitly instead.\n",
            "  X = check_array(X, **check_params)\n",
            "/usr/local/lib/python3.7/dist-packages/sklearn/base.py:566: FutureWarning: Arrays of bytes/strings is being converted to decimal numbers if dtype='numeric'. This behavior is deprecated in 0.24 and will be removed in 1.1 (renaming of 0.26). Please convert your data to numeric values explicitly instead.\n",
            "  X = check_array(X, **check_params)\n",
            "/usr/local/lib/python3.7/dist-packages/sklearn/base.py:566: FutureWarning: Arrays of bytes/strings is being converted to decimal numbers if dtype='numeric'. This behavior is deprecated in 0.24 and will be removed in 1.1 (renaming of 0.26). Please convert your data to numeric values explicitly instead.\n",
            "  X = check_array(X, **check_params)\n"
          ]
        },
        {
          "output_type": "stream",
          "name": "stdout",
          "text": [
            "El puntaje de eficiencia que tuvo el algoritmo por score es de: 0.44504\n",
            "La matriz de confusion es: \n",
            "[[ 9153     0   895     0  6654     0     0]\n",
            " [  441     0    73     0   449     0     0]\n",
            " [ 2297     0   571     0  2336     0     0]\n",
            " [ 1493     0   543     0  1379     0     0]\n",
            " [13429     0  1187     1 17144     0     0]\n",
            " [  256     0    89     0   255     0     0]\n",
            " [  827     0   259     0   641     0     0]]\n",
            "El clasification report es: \n",
            "               precision    recall  f1-score   support\n",
            "\n",
            "           0       0.33      0.55      0.41     16702\n",
            "           1       0.00      0.00      0.00       963\n",
            "           2       0.16      0.11      0.13      5204\n",
            "           3       0.00      0.00      0.00      3415\n",
            "           4       0.59      0.54      0.57     31761\n",
            "           5       0.00      0.00      0.00       600\n",
            "           6       0.00      0.00      0.00      1727\n",
            "\n",
            "    accuracy                           0.45     60372\n",
            "   macro avg       0.15      0.17      0.16     60372\n",
            "weighted avg       0.42      0.45      0.42     60372\n"
          ]
        },
        {
          "output_type": "stream",
          "name": "stderr",
          "text": [
            "/usr/local/lib/python3.7/dist-packages/sklearn/metrics/_classification.py:1318: UndefinedMetricWarning: Precision and F-score are ill-defined and being set to 0.0 in labels with no predicted samples. Use `zero_division` parameter to control this behavior.\n",
            "  _warn_prf(average, modifier, msg_start, len(result))\n",
            "/usr/local/lib/python3.7/dist-packages/sklearn/metrics/_classification.py:1318: UndefinedMetricWarning: Precision and F-score are ill-defined and being set to 0.0 in labels with no predicted samples. Use `zero_division` parameter to control this behavior.\n",
            "  _warn_prf(average, modifier, msg_start, len(result))\n",
            "/usr/local/lib/python3.7/dist-packages/sklearn/metrics/_classification.py:1318: UndefinedMetricWarning: Precision and F-score are ill-defined and being set to 0.0 in labels with no predicted samples. Use `zero_division` parameter to control this behavior.\n",
            "  _warn_prf(average, modifier, msg_start, len(result))\n"
          ]
        }
      ]
    },
    {
      "cell_type": "code",
      "source": [
        "# Decision Tree\n",
        "\n",
        "from sklearn.tree import DecisionTreeClassifier\n",
        "clf = DecisionTreeClassifier().fit(x_train, y_train)\n",
        "\n",
        "print('El puntaje de eficiencia que tuvo el algoritmo por score es de: ' + str(round(clf.score(x_test, y_test),5)))\n",
        "\n",
        "y_pred_clf = clf.predict(x_test)\n",
        "y_predic_clf_proba = clf.predict_proba(x_test)\n",
        "efficiency(y_pred_clf,y_predic_clf_proba,y_test)"
      ],
      "metadata": {
        "colab": {
          "base_uri": "https://localhost:8080/"
        },
        "id": "ouXK6yrWctkK",
        "outputId": "d820153d-1d4e-4044-d387-96e93efae5bc"
      },
      "execution_count": null,
      "outputs": [
        {
          "output_type": "stream",
          "name": "stdout",
          "text": [
            "El puntaje de eficiencia que tuvo el algoritmo por score es de: 0.39672\n",
            "La matriz de confusion es: \n",
            "[[ 5735   375  1891   822  7138   194   547]\n",
            " [  291    47   103    40   439    11    32]\n",
            " [ 1512   119   987   266  2001    76   243]\n",
            " [ 1110   106   514   285  1143    65   192]\n",
            " [ 8790   647  3096  1370 16679   335   844]\n",
            " [  168    16    98    35   232    11    40]\n",
            " [  484    50   343    83   531    29   207]]\n",
            "El clasification report es: \n",
            "               precision    recall  f1-score   support\n",
            "\n",
            "           0       0.32      0.34      0.33     16702\n",
            "           1       0.03      0.05      0.04       963\n",
            "           2       0.14      0.19      0.16      5204\n",
            "           3       0.10      0.08      0.09      3415\n",
            "           4       0.59      0.53      0.56     31761\n",
            "           5       0.02      0.02      0.02       600\n",
            "           6       0.10      0.12      0.11      1727\n",
            "\n",
            "    accuracy                           0.40     60372\n",
            "   macro avg       0.19      0.19      0.19     60372\n",
            "weighted avg       0.42      0.40      0.41     60372\n"
          ]
        }
      ]
    },
    {
      "cell_type": "code",
      "source": [
        "# K-Nearest Neighbors - Para k vecinos \n",
        "\n",
        "# Para este algoritmos evaluaremos vecinos cercanos [1-8] y averiguaremos con cual es mas eficiente\n",
        "\n",
        "# Importamos la libreria numpy as np \n",
        "\n",
        "import numpy as np \n",
        "\n",
        "# .arange crea un vector del de tamaño 8 con elementos numericos del 1 - 8\n",
        "# estos representaran los valores de k a traves del ciclo for\n",
        "array = np.arange(1,9)\n",
        "\n",
        "# Declaramos dos variables de tamaño 8 \n",
        "\n",
        "train_accuracy = np.empty(len(array))\n",
        "test_accuracy = np.empty(len(array))\n",
        "\n",
        "from sklearn.neighbors import KNeighborsClassifier\n",
        "\n",
        "for i,k in enumerate(array):\n",
        "    knn_data = KNeighborsClassifier(n_neighbors=k)\n",
        "    knn_data.fit(x_train,y_train)\n",
        "    # Almacenamos los resultados para la data entrenada y evaluada para cada \n",
        "    # iteracion en el ciclo para es decir deben existir 8 resultados. \n",
        "    train_accuracy[i] = knn_data.score(x_train,y_train)\n",
        "    test_accuracy[i] = knn_data.score(x_test,y_test)\n",
        "\n",
        "import matplotlib.pyplot as plt\n",
        "plt.title('knn Number')\n",
        "plt.xlabel('K neighbor')\n",
        "plt.ylabel('Score')\n",
        "plt.plot(array,test_accuracy, label = 'testing')\n",
        "plt.plot(array,train_accuracy, label = 'train')\n",
        "plt.legend()\n",
        "plt.show()"
      ],
      "metadata": {
        "colab": {
          "base_uri": "https://localhost:8080/",
          "height": 1000
        },
        "id": "O5zljZweiYpC",
        "outputId": "85422f02-8107-415d-ec04-a9298d9d754e"
      },
      "execution_count": null,
      "outputs": [
        {
          "output_type": "stream",
          "name": "stderr",
          "text": [
            "/usr/local/lib/python3.7/dist-packages/sklearn/utils/validation.py:976: FutureWarning: Arrays of bytes/strings is being converted to decimal numbers if dtype='numeric'. This behavior is deprecated in 0.24 and will be removed in 1.1 (renaming of 0.26). Please convert your data to numeric values explicitly instead.\n",
            "  estimator=estimator,\n",
            "/usr/local/lib/python3.7/dist-packages/sklearn/neighbors/_classification.py:198: DataConversionWarning: A column-vector y was passed when a 1d array was expected. Please change the shape of y to (n_samples,), for example using ravel().\n",
            "  return self._fit(X, y)\n",
            "/usr/local/lib/python3.7/dist-packages/sklearn/base.py:566: FutureWarning: Arrays of bytes/strings is being converted to decimal numbers if dtype='numeric'. This behavior is deprecated in 0.24 and will be removed in 1.1 (renaming of 0.26). Please convert your data to numeric values explicitly instead.\n",
            "  X = check_array(X, **check_params)\n",
            "/usr/local/lib/python3.7/dist-packages/sklearn/base.py:566: FutureWarning: Arrays of bytes/strings is being converted to decimal numbers if dtype='numeric'. This behavior is deprecated in 0.24 and will be removed in 1.1 (renaming of 0.26). Please convert your data to numeric values explicitly instead.\n",
            "  X = check_array(X, **check_params)\n",
            "/usr/local/lib/python3.7/dist-packages/sklearn/utils/validation.py:976: FutureWarning: Arrays of bytes/strings is being converted to decimal numbers if dtype='numeric'. This behavior is deprecated in 0.24 and will be removed in 1.1 (renaming of 0.26). Please convert your data to numeric values explicitly instead.\n",
            "  estimator=estimator,\n",
            "/usr/local/lib/python3.7/dist-packages/sklearn/neighbors/_classification.py:198: DataConversionWarning: A column-vector y was passed when a 1d array was expected. Please change the shape of y to (n_samples,), for example using ravel().\n",
            "  return self._fit(X, y)\n",
            "/usr/local/lib/python3.7/dist-packages/sklearn/base.py:566: FutureWarning: Arrays of bytes/strings is being converted to decimal numbers if dtype='numeric'. This behavior is deprecated in 0.24 and will be removed in 1.1 (renaming of 0.26). Please convert your data to numeric values explicitly instead.\n",
            "  X = check_array(X, **check_params)\n",
            "/usr/local/lib/python3.7/dist-packages/sklearn/base.py:566: FutureWarning: Arrays of bytes/strings is being converted to decimal numbers if dtype='numeric'. This behavior is deprecated in 0.24 and will be removed in 1.1 (renaming of 0.26). Please convert your data to numeric values explicitly instead.\n",
            "  X = check_array(X, **check_params)\n",
            "/usr/local/lib/python3.7/dist-packages/sklearn/utils/validation.py:976: FutureWarning: Arrays of bytes/strings is being converted to decimal numbers if dtype='numeric'. This behavior is deprecated in 0.24 and will be removed in 1.1 (renaming of 0.26). Please convert your data to numeric values explicitly instead.\n",
            "  estimator=estimator,\n",
            "/usr/local/lib/python3.7/dist-packages/sklearn/neighbors/_classification.py:198: DataConversionWarning: A column-vector y was passed when a 1d array was expected. Please change the shape of y to (n_samples,), for example using ravel().\n",
            "  return self._fit(X, y)\n",
            "/usr/local/lib/python3.7/dist-packages/sklearn/base.py:566: FutureWarning: Arrays of bytes/strings is being converted to decimal numbers if dtype='numeric'. This behavior is deprecated in 0.24 and will be removed in 1.1 (renaming of 0.26). Please convert your data to numeric values explicitly instead.\n",
            "  X = check_array(X, **check_params)\n",
            "/usr/local/lib/python3.7/dist-packages/sklearn/base.py:566: FutureWarning: Arrays of bytes/strings is being converted to decimal numbers if dtype='numeric'. This behavior is deprecated in 0.24 and will be removed in 1.1 (renaming of 0.26). Please convert your data to numeric values explicitly instead.\n",
            "  X = check_array(X, **check_params)\n",
            "/usr/local/lib/python3.7/dist-packages/sklearn/utils/validation.py:976: FutureWarning: Arrays of bytes/strings is being converted to decimal numbers if dtype='numeric'. This behavior is deprecated in 0.24 and will be removed in 1.1 (renaming of 0.26). Please convert your data to numeric values explicitly instead.\n",
            "  estimator=estimator,\n",
            "/usr/local/lib/python3.7/dist-packages/sklearn/neighbors/_classification.py:198: DataConversionWarning: A column-vector y was passed when a 1d array was expected. Please change the shape of y to (n_samples,), for example using ravel().\n",
            "  return self._fit(X, y)\n",
            "/usr/local/lib/python3.7/dist-packages/sklearn/base.py:566: FutureWarning: Arrays of bytes/strings is being converted to decimal numbers if dtype='numeric'. This behavior is deprecated in 0.24 and will be removed in 1.1 (renaming of 0.26). Please convert your data to numeric values explicitly instead.\n",
            "  X = check_array(X, **check_params)\n",
            "/usr/local/lib/python3.7/dist-packages/sklearn/base.py:566: FutureWarning: Arrays of bytes/strings is being converted to decimal numbers if dtype='numeric'. This behavior is deprecated in 0.24 and will be removed in 1.1 (renaming of 0.26). Please convert your data to numeric values explicitly instead.\n",
            "  X = check_array(X, **check_params)\n",
            "/usr/local/lib/python3.7/dist-packages/sklearn/utils/validation.py:976: FutureWarning: Arrays of bytes/strings is being converted to decimal numbers if dtype='numeric'. This behavior is deprecated in 0.24 and will be removed in 1.1 (renaming of 0.26). Please convert your data to numeric values explicitly instead.\n",
            "  estimator=estimator,\n",
            "/usr/local/lib/python3.7/dist-packages/sklearn/neighbors/_classification.py:198: DataConversionWarning: A column-vector y was passed when a 1d array was expected. Please change the shape of y to (n_samples,), for example using ravel().\n",
            "  return self._fit(X, y)\n",
            "/usr/local/lib/python3.7/dist-packages/sklearn/base.py:566: FutureWarning: Arrays of bytes/strings is being converted to decimal numbers if dtype='numeric'. This behavior is deprecated in 0.24 and will be removed in 1.1 (renaming of 0.26). Please convert your data to numeric values explicitly instead.\n",
            "  X = check_array(X, **check_params)\n",
            "/usr/local/lib/python3.7/dist-packages/sklearn/base.py:566: FutureWarning: Arrays of bytes/strings is being converted to decimal numbers if dtype='numeric'. This behavior is deprecated in 0.24 and will be removed in 1.1 (renaming of 0.26). Please convert your data to numeric values explicitly instead.\n",
            "  X = check_array(X, **check_params)\n",
            "/usr/local/lib/python3.7/dist-packages/sklearn/utils/validation.py:976: FutureWarning: Arrays of bytes/strings is being converted to decimal numbers if dtype='numeric'. This behavior is deprecated in 0.24 and will be removed in 1.1 (renaming of 0.26). Please convert your data to numeric values explicitly instead.\n",
            "  estimator=estimator,\n",
            "/usr/local/lib/python3.7/dist-packages/sklearn/neighbors/_classification.py:198: DataConversionWarning: A column-vector y was passed when a 1d array was expected. Please change the shape of y to (n_samples,), for example using ravel().\n",
            "  return self._fit(X, y)\n",
            "/usr/local/lib/python3.7/dist-packages/sklearn/base.py:566: FutureWarning: Arrays of bytes/strings is being converted to decimal numbers if dtype='numeric'. This behavior is deprecated in 0.24 and will be removed in 1.1 (renaming of 0.26). Please convert your data to numeric values explicitly instead.\n",
            "  X = check_array(X, **check_params)\n",
            "/usr/local/lib/python3.7/dist-packages/sklearn/base.py:566: FutureWarning: Arrays of bytes/strings is being converted to decimal numbers if dtype='numeric'. This behavior is deprecated in 0.24 and will be removed in 1.1 (renaming of 0.26). Please convert your data to numeric values explicitly instead.\n",
            "  X = check_array(X, **check_params)\n",
            "/usr/local/lib/python3.7/dist-packages/sklearn/utils/validation.py:976: FutureWarning: Arrays of bytes/strings is being converted to decimal numbers if dtype='numeric'. This behavior is deprecated in 0.24 and will be removed in 1.1 (renaming of 0.26). Please convert your data to numeric values explicitly instead.\n",
            "  estimator=estimator,\n",
            "/usr/local/lib/python3.7/dist-packages/sklearn/neighbors/_classification.py:198: DataConversionWarning: A column-vector y was passed when a 1d array was expected. Please change the shape of y to (n_samples,), for example using ravel().\n",
            "  return self._fit(X, y)\n",
            "/usr/local/lib/python3.7/dist-packages/sklearn/base.py:566: FutureWarning: Arrays of bytes/strings is being converted to decimal numbers if dtype='numeric'. This behavior is deprecated in 0.24 and will be removed in 1.1 (renaming of 0.26). Please convert your data to numeric values explicitly instead.\n",
            "  X = check_array(X, **check_params)\n",
            "/usr/local/lib/python3.7/dist-packages/sklearn/base.py:566: FutureWarning: Arrays of bytes/strings is being converted to decimal numbers if dtype='numeric'. This behavior is deprecated in 0.24 and will be removed in 1.1 (renaming of 0.26). Please convert your data to numeric values explicitly instead.\n",
            "  X = check_array(X, **check_params)\n",
            "/usr/local/lib/python3.7/dist-packages/sklearn/utils/validation.py:976: FutureWarning: Arrays of bytes/strings is being converted to decimal numbers if dtype='numeric'. This behavior is deprecated in 0.24 and will be removed in 1.1 (renaming of 0.26). Please convert your data to numeric values explicitly instead.\n",
            "  estimator=estimator,\n",
            "/usr/local/lib/python3.7/dist-packages/sklearn/neighbors/_classification.py:198: DataConversionWarning: A column-vector y was passed when a 1d array was expected. Please change the shape of y to (n_samples,), for example using ravel().\n",
            "  return self._fit(X, y)\n",
            "/usr/local/lib/python3.7/dist-packages/sklearn/base.py:566: FutureWarning: Arrays of bytes/strings is being converted to decimal numbers if dtype='numeric'. This behavior is deprecated in 0.24 and will be removed in 1.1 (renaming of 0.26). Please convert your data to numeric values explicitly instead.\n",
            "  X = check_array(X, **check_params)\n",
            "/usr/local/lib/python3.7/dist-packages/sklearn/base.py:566: FutureWarning: Arrays of bytes/strings is being converted to decimal numbers if dtype='numeric'. This behavior is deprecated in 0.24 and will be removed in 1.1 (renaming of 0.26). Please convert your data to numeric values explicitly instead.\n",
            "  X = check_array(X, **check_params)\n"
          ]
        },
        {
          "output_type": "display_data",
          "data": {
            "image/png": "[encoded data removed]",
            "text/plain": [
              "<Figure size 432x288 with 1 Axes>"
            ]
          },
          "metadata": {
            "needs_background": "light"
          }
        }
      ]
    },
    {
      "cell_type": "code",
      "source": [
        "# Realizamos la verificación para el valor de K = 8\n",
        "from sklearn.neighbors import KNeighborsClassifier\n",
        "   \n",
        "knn_e = KNeighborsClassifier(n_neighbors=8)\n",
        "#Implementamos\n",
        "knn_e.fit(x_train,y_train)\n",
        "\n",
        "from sklearn.metrics import plot_confusion_matrix\n",
        "plot_confusion_matrix(knn_e, x_test, y_test)\n",
        "plt.show()\n",
        "\n",
        "print('El puntaje de eficiencia que tuvo el algoritmo por score es de: ' \n",
        "      + str(round(knn_e.score(x_test,y_test),4)))\n",
        "y_pred_knn = knn_e.predict(x_test)\n",
        "y_pred_knn_proba = knn_e.predict_proba(x_test)\n",
        "efficiency(y_pred_knn,y_pred_knn_proba,y_test)"
      ],
      "metadata": {
        "colab": {
          "base_uri": "https://localhost:8080/",
          "height": 941
        },
        "id": "OYkSt0JDiles",
        "outputId": "b6ae7ba1-fbdb-4893-a063-af48b31bb2c0"
      },
      "execution_count": null,
      "outputs": [
        {
          "output_type": "stream",
          "name": "stderr",
          "text": [
            "/usr/local/lib/python3.7/dist-packages/sklearn/utils/validation.py:976: FutureWarning: Arrays of bytes/strings is being converted to decimal numbers if dtype='numeric'. This behavior is deprecated in 0.24 and will be removed in 1.1 (renaming of 0.26). Please convert your data to numeric values explicitly instead.\n",
            "  estimator=estimator,\n",
            "/usr/local/lib/python3.7/dist-packages/sklearn/neighbors/_classification.py:198: DataConversionWarning: A column-vector y was passed when a 1d array was expected. Please change the shape of y to (n_samples,), for example using ravel().\n",
            "  return self._fit(X, y)\n",
            "/usr/local/lib/python3.7/dist-packages/sklearn/utils/deprecation.py:87: FutureWarning: Function plot_confusion_matrix is deprecated; Function `plot_confusion_matrix` is deprecated in 1.0 and will be removed in 1.2. Use one of the class methods: ConfusionMatrixDisplay.from_predictions or ConfusionMatrixDisplay.from_estimator.\n",
            "  warnings.warn(msg, category=FutureWarning)\n",
            "/usr/local/lib/python3.7/dist-packages/sklearn/base.py:566: FutureWarning: Arrays of bytes/strings is being converted to decimal numbers if dtype='numeric'. This behavior is deprecated in 0.24 and will be removed in 1.1 (renaming of 0.26). Please convert your data to numeric values explicitly instead.\n",
            "  X = check_array(X, **check_params)\n"
          ]
        },
        {
          "output_type": "display_data",
          "data": {
            "image/png": "[encoded data removed]",
            "text/plain": [
              "<Figure size 432x288 with 2 Axes>"
            ]
          },
          "metadata": {
            "needs_background": "light"
          }
        },
        {
          "output_type": "stream",
          "name": "stderr",
          "text": [
            "/usr/local/lib/python3.7/dist-packages/sklearn/base.py:566: FutureWarning: Arrays of bytes/strings is being converted to decimal numbers if dtype='numeric'. This behavior is deprecated in 0.24 and will be removed in 1.1 (renaming of 0.26). Please convert your data to numeric values explicitly instead.\n",
            "  X = check_array(X, **check_params)\n"
          ]
        },
        {
          "output_type": "stream",
          "name": "stdout",
          "text": [
            "El puntaje de eficiencia que tuvo el algoritmo por score es de: 0.4279\n"
          ]
        },
        {
          "output_type": "stream",
          "name": "stderr",
          "text": [
            "/usr/local/lib/python3.7/dist-packages/sklearn/base.py:566: FutureWarning: Arrays of bytes/strings is being converted to decimal numbers if dtype='numeric'. This behavior is deprecated in 0.24 and will be removed in 1.1 (renaming of 0.26). Please convert your data to numeric values explicitly instead.\n",
            "  X = check_array(X, **check_params)\n",
            "/usr/local/lib/python3.7/dist-packages/sklearn/base.py:566: FutureWarning: Arrays of bytes/strings is being converted to decimal numbers if dtype='numeric'. This behavior is deprecated in 0.24 and will be removed in 1.1 (renaming of 0.26). Please convert your data to numeric values explicitly instead.\n",
            "  X = check_array(X, **check_params)\n"
          ]
        },
        {
          "output_type": "stream",
          "name": "stdout",
          "text": [
            "La matriz de confusion es: \n",
            "[[ 6867    62  2260    51  7229     3   230]\n",
            " [  325    17   139     5   466     0    11]\n",
            " [ 1818    26  1169    34  2044     0   113]\n",
            " [ 1295    21   661    58  1275     3   102]\n",
            " [ 9803    97  3727   130 17615     2   387]\n",
            " [  178     0   117     9   280     0    16]\n",
            " [  577    11   407    14   612     1   105]]\n",
            "El clasification report es: \n",
            "               precision    recall  f1-score   support\n",
            "\n",
            "           0       0.33      0.41      0.37     16702\n",
            "           1       0.07      0.02      0.03       963\n",
            "           2       0.14      0.22      0.17      5204\n",
            "           3       0.19      0.02      0.03      3415\n",
            "           4       0.60      0.55      0.57     31761\n",
            "           5       0.00      0.00      0.00       600\n",
            "           6       0.11      0.06      0.08      1727\n",
            "\n",
            "    accuracy                           0.43     60372\n",
            "   macro avg       0.21      0.18      0.18     60372\n",
            "weighted avg       0.43      0.43      0.42     60372\n"
          ]
        }
      ]
    },
    {
      "cell_type": "code",
      "source": [
        "# Linear Discriminant Analysis\n",
        "\n",
        "from sklearn.discriminant_analysis import LinearDiscriminantAnalysis\n",
        "\n",
        "lda = LinearDiscriminantAnalysis()\n",
        "lda.fit(x_train, y_train)\n",
        "\n",
        "print('El puntaje de eficiencia que tuvo el algoritmo por score es de: ' + str(round(lda.score(x_test, y_test),5)))\n",
        "\n",
        "y_pred_lda = lda.predict(x_test)\n",
        "y_pred_lda_prob = lda.predict_proba(x_test)\n",
        "efficiency(y_pred_lda,y_pred_lda_prob,y_test)"
      ],
      "metadata": {
        "colab": {
          "base_uri": "https://localhost:8080/"
        },
        "id": "R9hZU6F7iq7K",
        "outputId": "20679031-3b7d-4214-9877-c7ffdde5e267"
      },
      "execution_count": null,
      "outputs": [
        {
          "output_type": "stream",
          "name": "stderr",
          "text": [
            "/usr/local/lib/python3.7/dist-packages/sklearn/utils/validation.py:993: DataConversionWarning: A column-vector y was passed when a 1d array was expected. Please change the shape of y to (n_samples, ), for example using ravel().\n",
            "  y = column_or_1d(y, warn=True)\n",
            "/usr/local/lib/python3.7/dist-packages/sklearn/base.py:566: FutureWarning: Arrays of bytes/strings is being converted to decimal numbers if dtype='numeric'. This behavior is deprecated in 0.24 and will be removed in 1.1 (renaming of 0.26). Please convert your data to numeric values explicitly instead.\n",
            "  X = check_array(X, **check_params)\n",
            "/usr/local/lib/python3.7/dist-packages/sklearn/base.py:566: FutureWarning: Arrays of bytes/strings is being converted to decimal numbers if dtype='numeric'. This behavior is deprecated in 0.24 and will be removed in 1.1 (renaming of 0.26). Please convert your data to numeric values explicitly instead.\n",
            "  X = check_array(X, **check_params)\n",
            "/usr/local/lib/python3.7/dist-packages/sklearn/base.py:566: FutureWarning: Arrays of bytes/strings is being converted to decimal numbers if dtype='numeric'. This behavior is deprecated in 0.24 and will be removed in 1.1 (renaming of 0.26). Please convert your data to numeric values explicitly instead.\n",
            "  X = check_array(X, **check_params)\n"
          ]
        },
        {
          "output_type": "stream",
          "name": "stdout",
          "text": [
            "El puntaje de eficiencia que tuvo el algoritmo por score es de: 0.49937\n",
            "La matriz de confusion es: \n",
            "[[ 5754     0   775     2 10171     0     0]\n",
            " [  298     0    64     0   601     0     0]\n",
            " [ 1574     0   575     2  3053     0     0]\n",
            " [ 1180     0   547     0  1688     0     0]\n",
            " [ 7281     0   660     1 23819     0     0]\n",
            " [  167     0    77     0   356     0     0]\n",
            " [  553     0   280     0   894     0     0]]\n",
            "El clasification report es: \n",
            "               precision    recall  f1-score   support\n",
            "\n",
            "           0       0.34      0.34      0.34     16702\n",
            "           1       0.00      0.00      0.00       963\n",
            "           2       0.19      0.11      0.14      5204\n",
            "           3       0.00      0.00      0.00      3415\n",
            "           4       0.59      0.75      0.66     31761\n",
            "           5       0.00      0.00      0.00       600\n",
            "           6       0.00      0.00      0.00      1727\n",
            "\n",
            "    accuracy                           0.50     60372\n",
            "   macro avg       0.16      0.17      0.16     60372\n",
            "weighted avg       0.42      0.50      0.45     60372\n"
          ]
        },
        {
          "output_type": "stream",
          "name": "stderr",
          "text": [
            "/usr/local/lib/python3.7/dist-packages/sklearn/metrics/_classification.py:1318: UndefinedMetricWarning: Precision and F-score are ill-defined and being set to 0.0 in labels with no predicted samples. Use `zero_division` parameter to control this behavior.\n",
            "  _warn_prf(average, modifier, msg_start, len(result))\n",
            "/usr/local/lib/python3.7/dist-packages/sklearn/metrics/_classification.py:1318: UndefinedMetricWarning: Precision and F-score are ill-defined and being set to 0.0 in labels with no predicted samples. Use `zero_division` parameter to control this behavior.\n",
            "  _warn_prf(average, modifier, msg_start, len(result))\n",
            "/usr/local/lib/python3.7/dist-packages/sklearn/metrics/_classification.py:1318: UndefinedMetricWarning: Precision and F-score are ill-defined and being set to 0.0 in labels with no predicted samples. Use `zero_division` parameter to control this behavior.\n",
            "  _warn_prf(average, modifier, msg_start, len(result))\n"
          ]
        }
      ]
    },
    {
      "cell_type": "code",
      "source": [
        "# Support Vector Machine\n",
        "\n",
        "from sklearn.svm import SVC\n",
        "\n",
        "svm = SVC(probability=True)\n",
        "svm.fit(x_train, y_train)\n",
        "\n",
        "print('El puntaje de eficiencia que tuvo el algoritmo por score es de: '+ str(round(svm.score(x_test, y_test),5)))\n",
        "\n",
        "y_pred_svc = svm.predict(x_test)\n",
        "y_pred_svc_prob = svm.predict_proba(x_test)\n",
        "efficiency(y_pred_svc,y_pred_svc_prob,y_test)"
      ],
      "metadata": {
        "id": "x9ULScIEitki"
      },
      "execution_count": null,
      "outputs": []
    },
    {
      "cell_type": "code",
      "source": [
        "#Naive Bayes\n",
        "from sklearn.naive_bayes import GaussianNB\n",
        "gnb = GaussianNB()\n",
        "gnb.fit(x_train,y_train)\n",
        "print('El puntaje de eficiencia que tuvo el algoritmo por score es de: '+ str(round(gnb.score(x_test, y_test),5)))\n",
        "y_pred_gnb = gnb.predict(x_test)\n",
        "y_pred_gnb_prob = gnb.predict_proba(x_test)\n",
        "efficiency(y_pred_gnb,y_pred_gnb_prob,y_test)"
      ],
      "metadata": {
        "colab": {
          "base_uri": "https://localhost:8080/"
        },
        "id": "CkMDoIOnjeIE",
        "outputId": "e13728a5-4569-40d2-e1bd-2ea78e17d17b"
      },
      "execution_count": null,
      "outputs": [
        {
          "output_type": "stream",
          "name": "stderr",
          "text": [
            "/usr/local/lib/python3.7/dist-packages/sklearn/utils/validation.py:993: DataConversionWarning: A column-vector y was passed when a 1d array was expected. Please change the shape of y to (n_samples, ), for example using ravel().\n",
            "  y = column_or_1d(y, warn=True)\n",
            "/usr/local/lib/python3.7/dist-packages/sklearn/utils/validation.py:976: FutureWarning: Arrays of bytes/strings is being converted to decimal numbers if dtype='numeric'. This behavior is deprecated in 0.24 and will be removed in 1.1 (renaming of 0.26). Please convert your data to numeric values explicitly instead.\n",
            "  estimator=estimator,\n",
            "/usr/local/lib/python3.7/dist-packages/sklearn/base.py:566: FutureWarning: Arrays of bytes/strings is being converted to decimal numbers if dtype='numeric'. This behavior is deprecated in 0.24 and will be removed in 1.1 (renaming of 0.26). Please convert your data to numeric values explicitly instead.\n",
            "  X = check_array(X, **check_params)\n"
          ]
        },
        {
          "output_type": "stream",
          "name": "stdout",
          "text": [
            "El puntaje de eficiencia que tuvo el algoritmo por score es de: 0.42576\n"
          ]
        },
        {
          "output_type": "stream",
          "name": "stderr",
          "text": [
            "/usr/local/lib/python3.7/dist-packages/sklearn/base.py:566: FutureWarning: Arrays of bytes/strings is being converted to decimal numbers if dtype='numeric'. This behavior is deprecated in 0.24 and will be removed in 1.1 (renaming of 0.26). Please convert your data to numeric values explicitly instead.\n",
            "  X = check_array(X, **check_params)\n",
            "/usr/local/lib/python3.7/dist-packages/sklearn/base.py:566: FutureWarning: Arrays of bytes/strings is being converted to decimal numbers if dtype='numeric'. This behavior is deprecated in 0.24 and will be removed in 1.1 (renaming of 0.26). Please convert your data to numeric values explicitly instead.\n",
            "  X = check_array(X, **check_params)\n"
          ]
        },
        {
          "output_type": "stream",
          "name": "stdout",
          "text": [
            "La matriz de confusion es: \n",
            "[[10410     0   776   149  5367     0     0]\n",
            " [  537     0    41     6   379     0     0]\n",
            " [ 2499     0   553   103  2049     0     0]\n",
            " [ 1945     0   362    96  1012     0     0]\n",
            " [15724     0  1068   324 14645     0     0]\n",
            " [  333     0    40     6   221     0     0]\n",
            " [  963     0   201    26   537     0     0]]\n",
            "El clasification report es: \n",
            "               precision    recall  f1-score   support\n",
            "\n",
            "           0       0.32      0.62      0.42     16702\n",
            "           1       0.00      0.00      0.00       963\n",
            "           2       0.18      0.11      0.13      5204\n",
            "           3       0.14      0.03      0.05      3415\n",
            "           4       0.60      0.46      0.52     31761\n",
            "           5       0.00      0.00      0.00       600\n",
            "           6       0.00      0.00      0.00      1727\n",
            "\n",
            "    accuracy                           0.43     60372\n",
            "   macro avg       0.18      0.17      0.16     60372\n",
            "weighted avg       0.43      0.43      0.41     60372\n"
          ]
        },
        {
          "output_type": "stream",
          "name": "stderr",
          "text": [
            "/usr/local/lib/python3.7/dist-packages/sklearn/metrics/_classification.py:1318: UndefinedMetricWarning: Precision and F-score are ill-defined and being set to 0.0 in labels with no predicted samples. Use `zero_division` parameter to control this behavior.\n",
            "  _warn_prf(average, modifier, msg_start, len(result))\n",
            "/usr/local/lib/python3.7/dist-packages/sklearn/metrics/_classification.py:1318: UndefinedMetricWarning: Precision and F-score are ill-defined and being set to 0.0 in labels with no predicted samples. Use `zero_division` parameter to control this behavior.\n",
            "  _warn_prf(average, modifier, msg_start, len(result))\n",
            "/usr/local/lib/python3.7/dist-packages/sklearn/metrics/_classification.py:1318: UndefinedMetricWarning: Precision and F-score are ill-defined and being set to 0.0 in labels with no predicted samples. Use `zero_division` parameter to control this behavior.\n",
            "  _warn_prf(average, modifier, msg_start, len(result))\n"
          ]
        }
      ]
    }
  ]
}